{
 "cells": [
  {
   "cell_type": "markdown",
   "metadata": {},
   "source": [
    "# Neural networks with PyTorch\n",
    "\n",
    "Deep learning networks tend to be massive with dozens or hundreds of layers, that's where the term \"deep\" comes from. You can build one of these deep networks using only weight matrices as we did in the previous notebook, but in general it's very cumbersome and difficult to implement. PyTorch has a nice module `nn` that provides a nice way to efficiently build large neural networks."
   ]
  },
  {
   "cell_type": "code",
   "execution_count": 1,
   "metadata": {},
   "outputs": [],
   "source": [
    "# Import necessary packages\n",
    "\n",
    "%matplotlib inline\n",
    "%config InlineBackend.figure_format = 'retina'\n",
    "\n",
    "import numpy as np\n",
    "import torch\n",
    "\n",
    "import helper\n",
    "\n",
    "import matplotlib.pyplot as plt"
   ]
  },
  {
   "cell_type": "markdown",
   "metadata": {},
   "source": [
    "\n",
    "Now we're going to build a larger network that can solve a (formerly) difficult problem, identifying text in an image. Here we'll use the MNIST dataset which consists of greyscale handwritten digits. Each image is 28x28 pixels, you can see a sample below\n",
    "\n",
    "<img src='assets/mnist.png'>\n",
    "\n",
    "Our goal is to build a neural network that can take one of these images and predict the digit in the image.\n",
    "\n",
    "First up, we need to get our dataset. This is provided through the `torchvision` package. The code below will download the MNIST dataset, then create training and test datasets for us. Don't worry too much about the details here, you'll learn more about this later."
   ]
  },
  {
   "cell_type": "code",
   "execution_count": 3,
   "metadata": {},
   "outputs": [],
   "source": [
    "### Run this cell\n",
    "\n",
    "from torchvision import datasets, transforms\n",
    "\n",
    "# Define a transform to normalize the data\n",
    "transform = transforms.Compose([transforms.ToTensor(),\n",
    "                              transforms.Normalize((0.5, 0.5, 0.5), (0.5, 0.5, 0.5)),\n",
    "                              ])\n",
    "\n",
    "# Download and load the training data\n",
    "trainset = datasets.MNIST('MNIST_data/', download=True, train=True, transform=transform)\n",
    "trainloader = torch.utils.data.DataLoader(trainset, batch_size=64, shuffle=True)"
   ]
  },
  {
   "cell_type": "markdown",
   "metadata": {},
   "source": [
    "We have the training data loaded into `trainloader` and we make that an iterator with `iter(trainloader)`. Later, we'll use this to loop through the dataset for training, like\n",
    "\n",
    "```python\n",
    "for image, label in trainloader:\n",
    "    ## do things with images and labels\n",
    "```\n",
    "\n",
    "You'll notice I created the `trainloader` with a batch size of 64, and `shuffle=True`. The batch size is the number of images we get in one iteration from the data loader and pass through our network, often called a *batch*. And `shuffle=True` tells it to shuffle the dataset every time we start going through the data loader again. But here I'm just grabbing the first batch so we can check out the data. We can see below that `images` is just a tensor with size `(64, 1, 28, 28)`. So, 64 images per batch, 1 color channel, and 28x28 images."
   ]
  },
  {
   "cell_type": "code",
   "execution_count": 4,
   "metadata": {},
   "outputs": [
    {
     "name": "stdout",
     "output_type": "stream",
     "text": [
      "<class 'torch.Tensor'>\n",
      "torch.Size([64, 1, 28, 28])\n",
      "torch.Size([64])\n"
     ]
    }
   ],
   "source": [
    "dataiter = iter(trainloader)\n",
    "images, labels = dataiter.next()\n",
    "print(type(images))\n",
    "print(images.shape)\n",
    "print(labels.shape)"
   ]
  },
  {
   "cell_type": "markdown",
   "metadata": {},
   "source": [
    "This is what one of the images looks like. "
   ]
  },
  {
   "cell_type": "code",
   "execution_count": 5,
   "metadata": {},
   "outputs": [
    {
     "data": {
      "image/png": "[encoded data removed]",
      "text/plain": [
       "<Figure size 432x288 with 1 Axes>"
      ]
     },
     "metadata": {
      "image/png": {
       "height": 250,
       "width": 253
      },
      "needs_background": "light"
     },
     "output_type": "display_data"
    }
   ],
   "source": [
    "plt.imshow(images[1].numpy().squeeze(), cmap='Greys_r');"
   ]
  },
  {
   "cell_type": "markdown",
   "metadata": {},
   "source": [
    "First, let's try to build a simple network for this dataset using weight matrices and matrix multiplications. Then, we'll see how to do it using PyTorch's `nn` module which provides a much more convenient and powerful method for defining network architectures.\n",
    "\n",
    "The networks you've seen so far are called *fully-connected* or *dense* networks. Each unit in one layer is connected to each unit in the next layer. In fully-connected networks, the input to each layer must be a one-dimensional vector (which can be stacked into a 2D tensor as a batch of multiple examples). However, our images are 28x28 2D tensors, so we need to convert them into 1D vectors. Thinking about sizes, we need to convert the batch of images with shape `(64, 1, 28, 28)` to a have a shape of `(64, 784)`, 784 is 28 times 28. This is typically called *flattening*, we flattened the 2D images into 1D vectors.\n",
    "\n",
    "Previously you built a network with one output unit. Here we need 10 output units, one for each digit. We want our network to predict the digit shown in an image, so what we'll do is calculate probabilities that the image is of any one digit or class. This ends up being a discrete probability distribution over the classes (digits) that tells us the most likely class for the image. That means we need 10 output units for the 10 classes (digits). We'll see how to convert the network output into a probability distribution next.\n",
    "\n",
    "> **Exercise:** Flatten the batch of images `images`. Then build a multi-layer network with 784 input units, 256 hidden units, and 10 output units using random tensors for the weights and biases. For now, use a sigmoid activation for the hidden layer. Leave the output layer without an activation, we'll add one that gives us a probability distribution next."
   ]
  },
  {
   "cell_type": "code",
   "execution_count": 9,
   "metadata": {},
   "outputs": [
    {
     "data": {
      "text/plain": [
       "tensor([[  7.5698,  11.4880,   1.1323,   6.2190,  -9.3640,  19.1890,   8.0603,\n",
       "         -11.0885,  11.7291,  -0.4789],\n",
       "        [  2.1355,   1.2020,   1.7627,   1.0855, -10.1569,  14.9581,   5.6224,\n",
       "          -2.9099,  11.4982,  -2.9072],\n",
       "        [ -4.7911,   6.6062,   0.2835,  11.5739, -13.1492,   8.7918,   2.6657,\n",
       "           0.7463,  -2.8273,   1.9402],\n",
       "        [ -3.5127,   8.2264,   9.6432,   1.0001,  -4.9192,   5.2994,  -4.0500,\n",
       "          -0.1910,   7.6559,   5.3188],\n",
       "        [-12.4186,   8.2334,   2.7533,   0.9103,  -4.7597,   7.3435,   8.9368,\n",
       "          -3.7440,   4.3029,   1.0107],\n",
       "        [-11.3683,  13.8385,   2.9028,   9.8556, -11.6010,   7.0530,  -2.3045,\n",
       "         -17.0085,  -8.1164,   6.5372],\n",
       "        [ -1.1537,   1.0646,   6.1052,   7.4549, -10.3732,  12.8293,   2.7255,\n",
       "          -5.4216,  -3.2131,   8.0919],\n",
       "        [ -3.3023,   8.5129,   3.3312,   6.4956,  -6.3569,  10.4568,   2.9627,\n",
       "         -14.1247,  -0.1260,   0.7638],\n",
       "        [ -5.6194,   2.7204,   9.8851,   3.1254,  -4.8389,   7.8030,   6.5995,\n",
       "          -2.3859,  -0.8161,   0.3921],\n",
       "        [ -2.7529,   3.0913,  -0.5406,  10.3166, -15.9513,   2.4317,  13.5965,\n",
       "          -6.6048,  12.4795,   7.7751],\n",
       "        [ -5.1297,   0.5385,   2.9607,   3.0012,  -6.5360,   6.4225,   4.7046,\n",
       "          -0.4903,   5.9432,  -2.3494],\n",
       "        [ -7.0213,  10.5122,   2.2254,   2.3202, -14.9888,   4.0592,  -6.2107,\n",
       "           4.6095,  -1.5685,   5.3853],\n",
       "        [ -1.5308,  12.5513,  -1.5572,   5.4790,  -5.1521,  -2.3826,   4.6461,\n",
       "          -4.5740,   0.9839,  -0.5162],\n",
       "        [ -7.2027,  11.8947,  14.3824,   4.7059, -10.1329,   7.3565,   1.5361,\n",
       "           7.3183,   9.6557,   7.7963],\n",
       "        [-12.6857,   4.0165,  10.8636,   9.4150, -13.6856,  10.5871,  -1.2176,\n",
       "          -0.0123,  -3.7230,   9.4412],\n",
       "        [ -3.7626,   3.8893,   2.3306,  11.1132,  -4.9786,   2.8454,   7.7864,\n",
       "         -12.4540,   0.5681,   6.0973],\n",
       "        [ -3.0689,   3.5757,  -1.4113,   4.1105, -11.0822,  19.7206,  10.2762,\n",
       "         -10.9057,   7.9551,  -5.2471],\n",
       "        [  1.7409,  12.9469,   0.3520,   9.8252, -16.6676,  -1.8667,   0.8200,\n",
       "          -7.6430,   8.1812,   3.8025],\n",
       "        [ -5.1584,   8.4334,  12.0645,  -1.1269,  -8.2585,   2.9896,  -1.4341,\n",
       "           7.3279,   3.5690,   5.4576],\n",
       "        [  6.6973,   1.9960,   2.8940,  11.5567,  -9.4683,   0.6712,  13.0763,\n",
       "          -8.2921,  10.6126,   1.4821],\n",
       "        [ -0.3005,  -4.2197,   5.7207,  14.9925, -13.4982,   6.1862,   2.6490,\n",
       "         -21.2322,  15.0301,   1.1252],\n",
       "        [  6.3592,   6.5559,   2.6630,  -2.8304,  -5.4054,   9.7991,  12.2714,\n",
       "         -22.3771,   9.3685,  -8.8879],\n",
       "        [-12.7679,  -0.2793,   6.6196,   0.5845,  -7.7679,   3.9500,  12.6591,\n",
       "           7.3055,   2.3622,   7.5635],\n",
       "        [ -0.6018,  -0.6930,   9.1852,   9.6654, -11.3589,   7.2936,  15.9287,\n",
       "          -5.5871,  -5.0235,   1.5258],\n",
       "        [  1.1616,   6.5709,  -2.7328,  13.2570,  -1.7608,   4.7945,   9.4050,\n",
       "          -5.9697,   2.0482,   3.5243],\n",
       "        [ -9.7591,   8.6856,   1.4560,   1.7002,  -8.5231,  13.7018,   8.7681,\n",
       "          -4.0454,   3.6447,   8.0542],\n",
       "        [ -1.2523,   3.8981,   9.2686,   1.7002,  -5.5208,   5.3686,  17.3400,\n",
       "           5.3523,  10.1866,  -3.0408],\n",
       "        [ -0.8223,   5.8976,  -2.4241,   0.6445,  -4.1366,  -0.3664,   5.3234,\n",
       "         -10.9760,  -1.5851,  -2.5104],\n",
       "        [ -3.3287,   3.8479,   2.3365,   3.3350, -10.8538,   9.8805,   9.8140,\n",
       "          -7.0925,   9.2038,   1.3556],\n",
       "        [ -0.2615,   0.9844,   7.6371,   2.7715,  -9.8798,   6.8953,  11.5002,\n",
       "         -16.3646,   7.8888,  -1.8110],\n",
       "        [ -4.0403,   3.0219,  -5.7233,   3.2421, -14.1657,  11.8098,   9.6384,\n",
       "          -9.0168,   6.9925,  -5.1818],\n",
       "        [ -2.1759,   6.7338,   1.4935,  -1.7783, -12.5298,   1.7232,   6.5513,\n",
       "           5.7011,  10.6433,   8.1622],\n",
       "        [ -1.8922,  13.7281,   1.0591,   6.8224,  -6.2856,  -4.8595,  11.8192,\n",
       "         -14.3177,   1.0851,  -6.7569],\n",
       "        [  4.1828,  -0.1492,  -6.8275,  -0.5679, -10.1947,   8.7034,   6.6103,\n",
       "         -13.7261,  -2.3399,   0.8186],\n",
       "        [ -8.2859,   8.4319,   4.6533,   3.8895, -11.0970,  10.0095,  12.8967,\n",
       "         -13.0328,   8.8162,   1.7423],\n",
       "        [ -6.8178,   3.6163,  -4.2372,   5.6250,  -2.8214,   4.6690,  12.3678,\n",
       "          -5.2610,  11.7015,   8.6591],\n",
       "        [ -0.4885,  -1.4105,   2.8129,   6.0940,  -6.3368,   9.4494,   1.3245,\n",
       "          11.0116,   0.3679,   3.9055],\n",
       "        [  0.6575,   1.7004,   3.6033,   8.3184,  -8.3298,  14.3738,  -2.3430,\n",
       "         -12.5741,   4.6954,   3.2127],\n",
       "        [ -5.1448,   1.7715,   1.7340,   1.0214, -10.2193,  -2.3455,  10.0008,\n",
       "          -0.4955,  -0.8344,   9.5581],\n",
       "        [ -6.9304,  -2.3676,  -2.9283,  11.8884,  -9.9729,   9.7164,  13.8694,\n",
       "         -10.3898,  -3.7663,   0.1269],\n",
       "        [ -6.6907,  -2.5192,   0.7053,  -0.2620,  -8.5190,  13.7147,   9.2119,\n",
       "          -2.6858,   8.3438,  -5.8307],\n",
       "        [ -6.7640,   5.6650,   0.0255,   0.4408,  -6.8383,   4.0725,   8.8760,\n",
       "          -7.7289,   9.5769,  11.8169],\n",
       "        [ -8.5705,   7.4419,  -8.6034,   6.9467,  -8.3088,  12.8108,  12.5992,\n",
       "          -8.7253,   2.0327,   4.7020],\n",
       "        [ -9.9550,  -3.1433,  -2.4632,   2.3958, -12.1621,  10.5457,   8.9898,\n",
       "          -6.7600,   7.3145,  -4.0942],\n",
       "        [-15.0421,   9.8768,   2.1715,   2.0950, -10.4032,  11.6721,   3.1009,\n",
       "          -5.2170,   0.9451,  -2.5427],\n",
       "        [ -2.1677,  16.3093,  -0.4252,   4.2137,  -6.9464,  11.4141,   5.9072,\n",
       "         -13.6761,   0.7645,  10.3216],\n",
       "        [ -4.6417,  -2.0280,   6.4186,   4.5937,  -6.1695,  11.7435,   6.1112,\n",
       "          -3.5501,   4.3911,  -1.9698],\n",
       "        [ -0.9319,   6.2045,   9.1141,   6.1831,  -2.4435,   8.0847,   8.5660,\n",
       "          -5.9279,   9.8263,  -3.8340],\n",
       "        [ -3.8170,  -4.8074,   1.8015,  -0.9767, -10.5308,  12.0400,   9.3462,\n",
       "          -3.3697,  15.0933,  -5.0763],\n",
       "        [ -7.4802,   3.5958,  -0.7277,   3.5695,  -8.3648,   4.7822,  12.1150,\n",
       "          -9.3795,   1.2080,   4.0633],\n",
       "        [-12.8829,   7.1407,  -1.8713,  13.5183, -11.2986,   9.8476,  11.5861,\n",
       "          -9.8594,   5.9242,  -3.2263],\n",
       "        [  3.5659,   5.4369,   5.2936,  -1.5777, -10.4951,   3.6696,   4.3720,\n",
       "         -12.3264,   4.8982,   5.5624],\n",
       "        [ -0.1235,   0.9852,  -3.5065,   6.7201, -14.5688,  12.2816,   8.0431,\n",
       "          -4.5940,  10.7249,  -3.6942],\n",
       "        [-14.4872,  -1.8360,   5.0879,   7.8960,  -6.9104,   0.2294,  -4.6230,\n",
       "           1.8254,  -2.4603,  16.7442],\n",
       "        [ -5.8076,   5.0997,  -1.6446,   3.0321,  -7.3266,  14.1288,   9.8925,\n",
       "          -4.8007,   8.6734,  -1.4963],\n",
       "        [  1.5695, -10.7387,   5.5277,   5.5052,  -6.7717,  -0.9935,   8.1804,\n",
       "          -3.1626,   7.5995,   8.6544],\n",
       "        [ -2.0292,   6.9319,  -6.6730,  -2.2105,  -7.5351,   2.6846,   1.0404,\n",
       "          -7.0820,   4.0498,   1.3330],\n",
       "        [ -1.7593,  -9.3690,   3.0103,  14.5008, -15.7724,   1.6978,   9.1090,\n",
       "          -4.2813,   8.9740,  -1.6314],\n",
       "        [ -2.5106,   2.8880,  -3.4853,  -3.9217, -15.8494,   2.7502,   4.3531,\n",
       "          -9.3520,  -3.9398,  -6.7752],\n",
       "        [  2.5283,  -3.6404,  10.3515,  12.9794,  -6.3579,   0.5421,   7.7568,\n",
       "         -10.6335,  14.8672,   7.6175],\n",
       "        [  1.2747,   4.1353,  13.8269,   1.7113, -17.0388,   7.8055,   1.1642,\n",
       "         -14.6181,   4.5441,   2.1829],\n",
       "        [ -7.8950,   5.0665,  -2.2807,   3.3375, -13.4320,   3.0956,   3.0506,\n",
       "          -1.1139,   1.4953,  -0.4996],\n",
       "        [ -5.3290,   7.5754,   0.6408,   4.9764, -15.2272,  10.3602,  11.7548,\n",
       "         -10.1061,  10.2312,   3.5251],\n",
       "        [  0.2778,  15.6654,   5.2049,   3.1997,  -8.7068,  12.0563,   3.2589,\n",
       "         -12.3311,  -5.8413,  -8.3171]])"
      ]
     },
     "execution_count": 9,
     "metadata": {},
     "output_type": "execute_result"
    }
   ],
   "source": [
    "## Your solution\n",
    "def activation(x):\n",
    "    \"\"\" Sigmoid activation function \n",
    "    \n",
    "        Arguments\n",
    "        ---------\n",
    "        x: torch.Tensor\n",
    "    \"\"\"\n",
    "    return 1/(1+torch.exp(-x))\n",
    "\n",
    "im = images.view(64, 784)\n",
    "W1 = torch.randn(784, 256)\n",
    "W2 = torch.randn(256, 10)\n",
    "\n",
    "B1 = torch.randn(1, 256)\n",
    "B2 = torch.randn(1, 10)\n",
    "\n",
    "h = activation(torch.mm(im,W1) + B1)\n",
    "Y = torch.mm(h, W2) + B2\n",
    "Y\n",
    "\n",
    "# out = # output of your network, should have shape (64,10)"
   ]
  },
  {
   "cell_type": "code",
   "execution_count": 11,
   "metadata": {},
   "outputs": [
    {
     "data": {
      "text/plain": [
       "tensor([[ -5.2116,  -5.9096,  -6.4763,  10.2029,   4.9781, -24.5721,  -0.4733,\n",
       "           3.7714,  -8.2828,  -2.7135],\n",
       "        [ -4.3106,  -8.8781,   3.8070,   8.8778,   1.5454, -21.4929,  -6.0069,\n",
       "          13.3889,  -1.5135,   3.4677],\n",
       "        [-10.5019,  -4.6437,  -5.8207,   7.2685,   5.2580, -17.9631,  -3.8272,\n",
       "           8.4281,   3.1219,  -2.8401],\n",
       "        [ -1.3314,  -6.7627,  -3.1196,  13.6351,   7.0545, -23.1338,  -8.4710,\n",
       "           3.7561,   4.4003,  -0.0379],\n",
       "        [-13.8067,  -2.4602,  -4.0025,   6.1384,   4.0813, -31.2599,  -7.8804,\n",
       "          13.1569,   4.9261,   1.1657],\n",
       "        [ -0.5820,   5.9748,  -1.9866,   6.5985,   5.3116, -25.6860,  -2.5784,\n",
       "           1.3835,   8.2379,  -9.1904],\n",
       "        [ -7.2555,  -4.2617, -10.6403,  16.2845,  -7.6751, -22.3221,  -6.5741,\n",
       "          -0.9646,   5.9001, -10.5825],\n",
       "        [ -6.8343,  -4.6746,  -3.7794,  10.5060,   5.1728, -26.4311,   2.6150,\n",
       "           2.8308,  -2.3224,  -0.3275],\n",
       "        [ -3.5253, -13.9372, -13.3157,   6.6931,   6.9820, -28.2403,  -5.5894,\n",
       "          -4.4275,   0.6493,  -1.0155],\n",
       "        [  2.2611,  -0.3776,   8.9955,   1.7167,   2.2144, -26.5141,   0.2462,\n",
       "           1.8534,  -2.7170,  -1.7617],\n",
       "        [ -5.7470,  -6.6166, -13.9129,   4.1248,   9.7170, -23.6216,   6.0891,\n",
       "           3.5031,  -2.3160,   3.7054],\n",
       "        [ -8.3494,  -5.6285,  -3.2543,   2.7112,   9.6738, -12.5305,  -0.0494,\n",
       "           0.8654,  -6.1043,  -2.1268],\n",
       "        [  0.2769,  -8.7306,  -1.6857,   8.5471,  18.4538, -25.1961,  -1.0838,\n",
       "           5.3511,  -2.1992,  -5.5321],\n",
       "        [ -1.1160,  -9.9812,   7.1064,  13.3414,   2.5943, -15.2943,  -4.6922,\n",
       "           2.2515,  -2.1201,   1.1620],\n",
       "        [ -7.2613,  -2.8316,  11.3914,  -3.2276,   4.8014, -15.2815, -15.2921,\n",
       "          10.7348,   1.6398,   2.8313],\n",
       "        [ -8.3057,  -2.4158,  -6.9805,  20.2587,   8.4219, -16.5879,   6.4947,\n",
       "           8.2989,   1.0096,  -4.6348],\n",
       "        [ -4.0610,  -5.2127,  -7.4194,  13.1406,   2.1258, -24.3578, -10.9996,\n",
       "           6.8690,  -1.2423,   1.9209],\n",
       "        [ -6.6957,   2.9853,   0.3673,  -2.0315,  -1.8780, -24.1085,  -8.0098,\n",
       "           1.0833,  -7.2586,   1.9391],\n",
       "        [ -0.8676,  -6.0223,   1.0452,   6.6361,  13.3567, -26.7866, -13.5893,\n",
       "          11.4924,  -7.0336,  -0.0744],\n",
       "        [ -2.0088,  -5.7099,  -8.9765,   9.2584,   3.9994, -22.1569,   1.7884,\n",
       "           1.3137,  -3.1883,  -3.4169],\n",
       "        [ -4.5388, -13.7648,   8.9479,  -2.8132,   4.4520, -18.7214,  -4.7583,\n",
       "           2.8733,  -0.7313,  -5.7159],\n",
       "        [ -4.1478, -12.4262,  -0.5248,  -5.9632,   2.3946, -26.0401,  -1.8554,\n",
       "          -5.9913,   7.3647,  -9.7144],\n",
       "        [  0.5965,  -3.5944,  -3.9945,  19.7238,   8.6423, -16.1812,  -7.9381,\n",
       "           3.8674,  -2.2558,   4.1862],\n",
       "        [ -9.5321, -12.1512,  -3.0059,  14.6014,  14.8282, -16.6043,  11.6460,\n",
       "          -3.3865,  -7.0316,   0.5815],\n",
       "        [ -1.1464,  -9.6038,  10.5219,   8.1671,  17.7931, -30.2990,  -2.1302,\n",
       "           6.9852,   8.7964,   6.8473],\n",
       "        [ -5.2711,  -4.0623,   2.3297,  11.9455,  -3.0176, -28.4434,  -7.3032,\n",
       "           4.8021,  -2.7843,  -7.0590],\n",
       "        [ -5.6492,  -8.7028,   5.2260,  11.6484,  17.4826, -22.9613,  -3.9797,\n",
       "          12.1447,  -0.6045,   2.7724],\n",
       "        [ -3.2053,  -5.6578,  -5.4676,   5.8112,  21.3505, -19.8365,   3.0720,\n",
       "           4.2406,  -1.5503,  -5.3759],\n",
       "        [-12.5597,  -3.5108,  -1.6480,  16.8130,   6.2334, -25.9007, -15.3432,\n",
       "           3.4380,   2.9657,  -8.7951],\n",
       "        [-10.5625, -10.4422,  -2.6326,   0.7287,  14.7742, -27.2336,  10.8964,\n",
       "          -0.4557,  -3.6409,   0.6817],\n",
       "        [ -3.8896,  -9.1607,  -6.8413,  10.1583,   6.4540, -22.2498, -13.1820,\n",
       "           5.8393,  -7.8622,  -2.9701],\n",
       "        [-13.1176,  -5.8144,   9.6993,  10.2020,   5.2416, -24.1680,  -7.6909,\n",
       "           8.4067,   9.3465,  -2.6038],\n",
       "        [ -9.4176,   3.7206,  -4.3620,   2.4354,  -7.4491, -18.7138,  -1.9239,\n",
       "          -0.5967,   2.1827,  -3.0099],\n",
       "        [ -9.6078,   0.1386,  -5.8151,   3.6223,   7.5009, -17.4387,   0.3381,\n",
       "          -8.2151,  -8.3761,  -9.0166],\n",
       "        [-15.6396,  -5.5931,  -4.4280,   5.8752,  14.0439, -18.0375,  -0.0235,\n",
       "           5.6883,  -1.3471,  -7.0801],\n",
       "        [ -2.9738,   5.7298,  -1.6174,  12.7125,   7.6459, -21.2910,  -1.4458,\n",
       "          10.1170,   6.8526,  -9.9489],\n",
       "        [-12.8255,   3.0821,   4.3558,   7.5002,   2.6334, -17.0673,  -9.2750,\n",
       "          -4.1572,   3.7987,  -5.8117],\n",
       "        [ -3.1741,   2.6953,   1.3556,   9.4544,   9.5464, -19.0671,  -8.7376,\n",
       "           3.0201,   2.9203, -12.5804],\n",
       "        [ -9.1799,  -4.8984,   1.3106,   6.4494,  12.6716,  -8.0498,   0.0209,\n",
       "           7.3747,   5.8257,  -7.3203],\n",
       "        [ -1.9337,  -5.0036,  -1.4961,  13.0123,  11.9373,  -9.5645,  -0.1200,\n",
       "           1.1614,  -4.3148,  -2.2379],\n",
       "        [-11.2651,  -3.7715,  -4.7816,  13.6602,   1.3495, -21.4056, -17.6757,\n",
       "           5.6049,   3.3709,  -2.4355],\n",
       "        [ -9.7214,  -4.1936,  -7.8781,  16.0210,  -0.6818, -25.6973,   0.5399,\n",
       "          -3.3747,  -0.4339,   0.3872],\n",
       "        [ -9.9091, -10.0876,  -5.6372,  10.2894,   5.4553, -16.9367,  -1.1091,\n",
       "           9.0324,  -1.6800,   3.2227],\n",
       "        [-11.8959,  -4.7612,  -2.1085,  16.7820,   4.8017, -22.7985, -13.5991,\n",
       "           9.4861,  -5.1279,  -3.6020],\n",
       "        [  4.4484,  -6.9674,  -1.2644,   7.2937,  10.1252, -22.7169,   1.0371,\n",
       "           7.1211,  -4.0570,  -6.2488],\n",
       "        [ -8.6140,  -9.7138,  -9.4179,  15.7723,   9.1754, -15.9122,   8.9544,\n",
       "           7.0938,   0.9190,   0.7934],\n",
       "        [ -7.9586,   2.8504,  -6.7743,  18.1592,   3.1926, -15.7188,  -7.2200,\n",
       "           7.7490,   2.5220, -14.3415],\n",
       "        [ -4.0168, -10.4806,  -6.0718,  13.6067,   8.5302, -19.9077,   3.1571,\n",
       "           2.6016,  -5.8090,  -0.2086],\n",
       "        [-11.4207,   0.8310,  -7.9121,  17.5598,   4.8871, -21.9977, -17.0804,\n",
       "           6.6643,   0.0543,  -5.6467],\n",
       "        [-10.7076,  -4.6647,  -7.7681,  12.2990,   3.9604, -22.4527,   1.1180,\n",
       "           3.1438,   1.6978, -12.7173],\n",
       "        [-12.9471, -12.1679,   5.6802,   4.1691,   1.0611, -26.8107,  -5.4315,\n",
       "           9.4270,   7.1658,  -7.9019],\n",
       "        [-10.6254, -14.3992,  -3.5796,  11.7331,   9.6576, -15.0159,   3.7206,\n",
       "           5.5813,  -1.2746,   5.0734],\n",
       "        [ -9.5341,  -3.1883,  -5.4324,  12.5623,   2.0169, -22.5483,  -6.9171,\n",
       "           4.6485,  -7.7470,   0.4481],\n",
       "        [ -2.7026,   1.0283,  -0.4268,  11.9574,  13.2775, -17.9051,  -4.5137,\n",
       "           6.0663,  -3.7060,   4.4382],\n",
       "        [ -4.4311,  -8.9497,   0.8829,   3.2940,   5.9308, -15.0680,  -1.1031,\n",
       "           5.7911,  -0.8857,  -8.2077],\n",
       "        [-13.5259,   2.2021,   8.1899,   7.1776,  13.5979, -13.8668,  -5.8473,\n",
       "          13.7286,   7.5162,   0.1615],\n",
       "        [ -6.3475,  -2.3291,   6.8915,   6.2793,   5.4538, -31.6082,   2.1432,\n",
       "          -0.0582,   8.0253, -11.8344],\n",
       "        [  1.4652, -10.9536,  16.3388,   6.2348,   3.3272, -16.4218,  -1.4726,\n",
       "           7.3501,   1.0265,   6.5527],\n",
       "        [  0.4883,  -3.9523,  -8.3302,  11.5850,   8.8666, -15.8307,  -7.0759,\n",
       "          -1.6909,   7.8773,  -9.5660],\n",
       "        [ -1.5800,  -0.1456,   5.6136,  -2.5053,  -1.1509, -21.6744,  -7.0316,\n",
       "           0.4212,   5.5847, -11.9181],\n",
       "        [ -7.1558,  -4.7815,   1.1803,   0.5075,  12.6880, -18.8598,  -3.5963,\n",
       "          -1.9857,  -9.9320,  -0.9756],\n",
       "        [ -4.5744,  -1.8744,  -9.6993,  10.5816,  13.6484, -13.7343,  -8.9866,\n",
       "           3.6729,   7.1299, -12.8616],\n",
       "        [ -9.7946, -10.1151,  -3.5619,  10.6896,  10.7466, -19.8894,   0.3294,\n",
       "          -0.4944,  -1.3908,   0.7962],\n",
       "        [ -4.5798,  -5.4024,  -2.4177,  10.1002,  12.7278, -21.4326,   1.4552,\n",
       "           1.2547,  10.6814,   2.6314]])"
      ]
     },
     "execution_count": 11,
     "metadata": {},
     "output_type": "execute_result"
    }
   ],
   "source": [
    "## Solution\n",
    "def activation(x):\n",
    "    return 1/(1+torch.exp(-x))\n",
    "\n",
    "# Flatten the input images\n",
    "inputs = images.view(images.shape[0], -1)\n",
    "\n",
    "# Create parameters\n",
    "w1 = torch.randn(784, 256)\n",
    "b1 = torch.randn(256)\n",
    "\n",
    "w2 = torch.randn(256, 10)\n",
    "b2 = torch.randn(10)\n",
    "\n",
    "h = activation(torch.mm(inputs, w1) + b1)\n",
    "\n",
    "out = torch.mm(h, w2) + b2\n",
    "out"
   ]
  },
  {
   "cell_type": "markdown",
   "metadata": {},
   "source": [
    "Now we have 10 outputs for our network. We want to pass in an image to our network and get out a probability distribution over the classes that tells us the likely class(es) the image belongs to. Something that looks like this:\n",
    "<img src='assets/image_distribution.png' width=500px>\n",
    "\n",
    "Here we see that the probability for each class is roughly the same. This is representing an untrained network, it hasn't seen any data yet so it just returns a uniform distribution with equal probabilities for each class.\n",
    "\n",
    "To calculate this probability distribution, we often use the [**softmax** function](https://en.wikipedia.org/wiki/Softmax_function). Mathematically this looks like\n",
    "\n",
    "$$\n",
    "\\Large \\sigma(x_i) = \\cfrac{e^{x_i}}{\\sum_k^K{e^{x_k}}}\n",
    "$$\n",
    "\n",
    "What this does is squish each input $x_i$ between 0 and 1 and normalizes the values to give you a proper probability distribution where the probabilites sum up to one.\n",
    "\n",
    "> **Exercise:** Implement a function `softmax` that performs the softmax calculation and returns probability distributions for each example in the batch. Note that you'll need to pay attention to the shapes when doing this. If you have a tensor `a` with shape `(64, 10)` and a tensor `b` with shape `(64,)`, doing `a/b` will give you an error because PyTorch will try to do the division across the columns (called broadcasting) but you'll get a size mismatch. The way to think about this is for each of the 64 examples, you only want to divide by one value, the sum in the denominator. So you need `b` to have a shape of `(64, 1)`. This way PyTorch will divide the 10 values in each row of `a` by the one value in each row of `b`. Pay attention to how you take the sum as well. You'll need to define the `dim` keyword in `torch.sum`. Setting `dim=0` takes the sum across the rows while `dim=1` takes the sum across the columns."
   ]
  },
  {
   "cell_type": "code",
   "execution_count": 25,
   "metadata": {},
   "outputs": [
    {
     "name": "stdout",
     "output_type": "stream",
     "text": [
      "torch.Size([64, 10])\n",
      "tensor([1.0000, 1.0000, 1.0000, 1.0000, 1.0000, 1.0000, 1.0000, 1.0000, 1.0000,\n",
      "        1.0000, 1.0000, 1.0000, 1.0000, 1.0000, 1.0000, 1.0000, 1.0000, 1.0000,\n",
      "        1.0000, 1.0000,    nan, 1.0000, 1.0000, 1.0000, 1.0000, 1.0000, 1.0000,\n",
      "        1.0000, 1.0000, 1.0000, 1.0000, 1.0000, 1.0000, 1.0000, 1.0000, 1.0000,\n",
      "        1.0000, 1.0000, 1.0000, 1.0000, 1.0000, 1.0000, 1.0000, 1.0000, 1.0000,\n",
      "        1.0000, 1.0000, 1.0000, 1.0000, 1.0000, 1.0000, 1.0000, 1.0000, 1.0000,\n",
      "        1.0000, 1.0000, 1.0000, 1.0000, 1.0000, 1.0000, 1.0000, 1.0000, 1.0000,\n",
      "        1.0000])\n"
     ]
    }
   ],
   "source": [
    "def softmax(x):\n",
    "    ## TODO: Implement the softmax function here\n",
    "    y = torch.exp(x)\n",
    "    denominator = torch.sum(y, dim = 1).view(64,1)\n",
    "    y /= denominator\n",
    "    return y\n",
    "\n",
    "# Here, out should be the output of the network in the previous excercise with shape (64,10)\n",
    "probabilities = softmax(out)\n",
    "\n",
    "# Does it have the right shape? Should be (64, 10)\n",
    "print(probabilities.shape)\n",
    "# Does it sum to 1?\n",
    "print(probabilities.sum(dim=1))"
   ]
  },
  {
   "cell_type": "markdown",
   "metadata": {},
   "source": [
    "## Building networks with PyTorch\n",
    "\n",
    "PyTorch provides a module `nn` that makes building networks much simpler. Here I'll show you how to build the same one as above with 784 inputs, 256 hidden units, 10 output units and a softmax output."
   ]
  },
  {
   "cell_type": "code",
   "execution_count": 26,
   "metadata": {},
   "outputs": [],
   "source": [
    "from torch import nn"
   ]
  },
  {
   "cell_type": "code",
   "execution_count": 27,
   "metadata": {},
   "outputs": [],
   "source": [
    "class Network(nn.Module):\n",
    "    def __init__(self):\n",
    "        super().__init__()\n",
    "        \n",
    "        # Inputs to hidden layer linear transformation\n",
    "        self.hidden = nn.Linear(784, 256)\n",
    "        # Output layer, 10 units - one for each digit\n",
    "        self.output = nn.Linear(256, 10)\n",
    "        \n",
    "        # Define sigmoid activation and softmax output \n",
    "        self.sigmoid = nn.Sigmoid()\n",
    "        self.softmax = nn.Softmax(dim=1)\n",
    "        \n",
    "    def forward(self, x):\n",
    "        # Pass the input tensor through each of our operations\n",
    "        x = self.hidden(x)\n",
    "        x = self.sigmoid(x)\n",
    "        x = self.output(x)\n",
    "        x = self.softmax(x)\n",
    "        \n",
    "        return x"
   ]
  },
  {
   "cell_type": "markdown",
   "metadata": {},
   "source": [
    "Let's go through this bit by bit.\n",
    "\n",
    "```python\n",
    "class Network(nn.Module):\n",
    "```\n",
    "\n",
    "Here we're inheriting from `nn.Module`. Combined with `super().__init__()` this creates a class that tracks the architecture and provides a lot of useful methods and attributes. It is mandatory to inherit from `nn.Module` when you're creating a class for your network. The name of the class itself can be anything.\n",
    "\n",
    "```python\n",
    "self.hidden = nn.Linear(784, 256)\n",
    "```\n",
    "\n",
    "This line creates a module for a linear transformation, $x\\mathbf{W} + b$, with 784 inputs and 256 outputs and assigns it to `self.hidden`. The module automatically creates the weight and bias tensors which we'll use in the `forward` method. You can access the weight and bias tensors once the network once it's create at `net.hidden.weight` and `net.hidden.bias`.\n",
    "\n",
    "```python\n",
    "self.output = nn.Linear(256, 10)\n",
    "```\n",
    "\n",
    "Similarly, this creates another linear transformation with 256 inputs and 10 outputs.\n",
    "\n",
    "```python\n",
    "self.sigmoid = nn.Sigmoid()\n",
    "self.softmax = nn.Softmax(dim=1)\n",
    "```\n",
    "\n",
    "Here I defined operations for the sigmoid activation and softmax output. Setting `dim=1` in `nn.Softmax(dim=1)` calculates softmax across the columns.\n",
    "\n",
    "```python\n",
    "def forward(self, x):\n",
    "```\n",
    "\n",
    "PyTorch networks created with `nn.Module` must have a `forward` method defined. It takes in a tensor `x` and passes it through the operations you defined in the `__init__` method.\n",
    "\n",
    "```python\n",
    "x = self.hidden(x)\n",
    "x = self.sigmoid(x)\n",
    "x = self.output(x)\n",
    "x = self.softmax(x)\n",
    "```\n",
    "\n",
    "Here the input tensor `x` is passed through each operation a reassigned to `x`. We can see that the input tensor goes through the hidden layer, then a sigmoid function, then the output layer, and finally the softmax function. It doesn't matter what you name the variables here, as long as the inputs and outputs of the operations match the network architecture you want to build. The order in which you define things in the `__init__` method doesn't matter, but you'll need to sequence the operations correctly in the `forward` method.\n",
    "\n",
    "Now we can create a `Network` object."
   ]
  },
  {
   "cell_type": "code",
   "execution_count": null,
   "metadata": {},
   "outputs": [],
   "source": [
    "# Create the network and look at it's text representation\n",
    "model = Network()\n",
    "model"
   ]
  },
  {
   "cell_type": "markdown",
   "metadata": {},
   "source": [
    "You can define the network somewhat more concisely and clearly using the `torch.nn.functional` module. This is the most common way you'll see networks defined as many operations are simple element-wise functions. We normally import this module as `F`, `import torch.nn.functional as F`."
   ]
  },
  {
   "cell_type": "code",
   "execution_count": 31,
   "metadata": {},
   "outputs": [],
   "source": [
    "import torch.nn.functional as F\n",
    "\n",
    "class Network(nn.Module):\n",
    "    def __init__(self):\n",
    "        super().__init__()\n",
    "        # Inputs to hidden layer linear transformation\n",
    "        self.hidden = nn.Linear(784, 256)\n",
    "        # Output layer, 10 units - one for each digit\n",
    "        self.output = nn.Linear(256, 10)\n",
    "        \n",
    "    def forward(self, x):\n",
    "        # Hidden layer with sigmoid activation\n",
    "        x = F.sigmoid(self.hidden(x))\n",
    "        # Output layer with softmax activation\n",
    "        x = F.softmax(self.output(x), dim=1)\n",
    "        \n",
    "        return x"
   ]
  },
  {
   "cell_type": "markdown",
   "metadata": {},
   "source": [
    "### Activation functions\n",
    "\n",
    "So far we've only been looking at the softmax activation, but in general any function can be used as an activation function. The only requirement is that for a network to approximate a non-linear function, the activation functions must be non-linear. Here are a few more examples of common activation functions: Tanh (hyperbolic tangent), and ReLU (rectified linear unit).\n",
    "\n",
    "<img src=\"assets/activation.png\" width=700px>\n",
    "\n",
    "In practice, the ReLU function is used almost exclusively as the activation function for hidden layers."
   ]
  },
  {
   "cell_type": "markdown",
   "metadata": {},
   "source": [
    "### Your Turn to Build a Network\n",
    "\n",
    "<img src=\"assets/mlp_mnist.png\" width=600px>\n",
    "\n",
    "> **Exercise:** Create a network with 784 input units, a hidden layer with 128 units and a ReLU activation, then a hidden layer with 64 units and a ReLU activation, and finally an output layer with a softmax activation as shown above. You can use a ReLU activation with the `nn.ReLU` module or `F.relu` function."
   ]
  },
  {
   "cell_type": "code",
   "execution_count": 34,
   "metadata": {
    "scrolled": true
   },
   "outputs": [
    {
     "data": {
      "text/plain": [
       "Network(\n",
       "  (fc1): Linear(in_features=784, out_features=128, bias=True)\n",
       "  (fc2): Linear(in_features=128, out_features=64, bias=True)\n",
       "  (fc3): Linear(in_features=64, out_features=10, bias=True)\n",
       ")"
      ]
     },
     "execution_count": 34,
     "metadata": {},
     "output_type": "execute_result"
    }
   ],
   "source": [
    "## Your solution here\n",
    "\n",
    "class Network(nn.Module):\n",
    "    def __init__(self):\n",
    "        super().__init__()\n",
    "        # Inputs to hidden layer linear transformation\n",
    "        self.fc1 = nn.Linear(784, 128)\n",
    "        self.fc2 = nn.Linear(128, 64)\n",
    "        # Output layer, 10 units - one for each digit\n",
    "        self.fc3 = nn.Linear(64, 10)\n",
    "        \n",
    "    def forward(self, x):\n",
    "        # Hidden layer with sigmoid activation\n",
    "        x = F.relu(self.fc1(x))\n",
    "        x = F.relu(self.fc2(x))\n",
    "        # Output layer with softmax activation\n",
    "        x = F.softmax(self.fc3(x), dim=1)\n",
    "        \n",
    "        return x\n",
    "\n",
    "model = Network()\n",
    "model"
   ]
  },
  {
   "cell_type": "markdown",
   "metadata": {},
   "source": [
    "### Initializing weights and biases\n",
    "\n",
    "The weights and such are automatically initialized for you, but it's possible to customize how they are initialized. The weights and biases are tensors attached to the layer you defined, you can get them with `model.fc1.weight` for instance."
   ]
  },
  {
   "cell_type": "code",
   "execution_count": 35,
   "metadata": {},
   "outputs": [
    {
     "name": "stdout",
     "output_type": "stream",
     "text": [
      "Parameter containing:\n",
      "tensor([[-0.0023,  0.0180, -0.0058,  ...,  0.0046,  0.0181,  0.0244],\n",
      "        [ 0.0091, -0.0245,  0.0037,  ..., -0.0223,  0.0175,  0.0260],\n",
      "        [-0.0053, -0.0162, -0.0094,  ..., -0.0073, -0.0139,  0.0005],\n",
      "        ...,\n",
      "        [ 0.0242, -0.0134,  0.0028,  ..., -0.0234, -0.0150, -0.0023],\n",
      "        [ 0.0193, -0.0138,  0.0123,  ..., -0.0245, -0.0212, -0.0002],\n",
      "        [ 0.0013, -0.0295,  0.0293,  ...,  0.0296, -0.0339, -0.0107]],\n",
      "       requires_grad=True)\n",
      "Parameter containing:\n",
      "tensor([ 0.0017, -0.0125,  0.0057,  0.0201,  0.0270,  0.0100,  0.0280,  0.0265,\n",
      "        -0.0051,  0.0131,  0.0098, -0.0228, -0.0255,  0.0286,  0.0152,  0.0227,\n",
      "         0.0254, -0.0023, -0.0186, -0.0032, -0.0237,  0.0284,  0.0125,  0.0001,\n",
      "        -0.0333, -0.0042,  0.0024, -0.0253, -0.0057,  0.0286, -0.0254,  0.0121,\n",
      "        -0.0092,  0.0106,  0.0306, -0.0030, -0.0124, -0.0050,  0.0165,  0.0352,\n",
      "        -0.0240, -0.0155, -0.0209,  0.0104, -0.0227, -0.0134,  0.0357, -0.0162,\n",
      "         0.0307, -0.0224,  0.0209,  0.0197, -0.0128, -0.0082,  0.0167, -0.0261,\n",
      "        -0.0091, -0.0341, -0.0112, -0.0299, -0.0029, -0.0033,  0.0355,  0.0127,\n",
      "        -0.0115, -0.0238, -0.0205,  0.0203,  0.0352,  0.0228,  0.0174, -0.0217,\n",
      "         0.0328, -0.0042,  0.0300,  0.0013,  0.0026, -0.0260,  0.0281, -0.0012,\n",
      "        -0.0065,  0.0181, -0.0006,  0.0202, -0.0263,  0.0325,  0.0285,  0.0099,\n",
      "        -0.0189, -0.0125, -0.0036,  0.0224, -0.0315, -0.0357,  0.0289, -0.0341,\n",
      "         0.0173, -0.0054, -0.0039,  0.0221,  0.0356, -0.0201, -0.0289, -0.0076,\n",
      "         0.0041,  0.0250,  0.0024,  0.0329,  0.0097,  0.0194,  0.0227,  0.0186,\n",
      "         0.0312, -0.0007, -0.0182,  0.0349,  0.0217, -0.0062, -0.0295,  0.0014,\n",
      "        -0.0252, -0.0037,  0.0088,  0.0180,  0.0051, -0.0072,  0.0002, -0.0283],\n",
      "       requires_grad=True)\n"
     ]
    }
   ],
   "source": [
    "print(model.fc1.weight)\n",
    "print(model.fc1.bias)"
   ]
  },
  {
   "cell_type": "markdown",
   "metadata": {},
   "source": [
    "For custom initialization, we want to modify these tensors in place. These are actually autograd *Variables*, so we need to get back the actual tensors with `model.fc1.weight.data`. Once we have the tensors, we can fill them with zeros (for biases) or random normal values."
   ]
  },
  {
   "cell_type": "code",
   "execution_count": 36,
   "metadata": {},
   "outputs": [
    {
     "data": {
      "text/plain": [
       "tensor([0., 0., 0., 0., 0., 0., 0., 0., 0., 0., 0., 0., 0., 0., 0., 0., 0., 0.,\n",
       "        0., 0., 0., 0., 0., 0., 0., 0., 0., 0., 0., 0., 0., 0., 0., 0., 0., 0.,\n",
       "        0., 0., 0., 0., 0., 0., 0., 0., 0., 0., 0., 0., 0., 0., 0., 0., 0., 0.,\n",
       "        0., 0., 0., 0., 0., 0., 0., 0., 0., 0., 0., 0., 0., 0., 0., 0., 0., 0.,\n",
       "        0., 0., 0., 0., 0., 0., 0., 0., 0., 0., 0., 0., 0., 0., 0., 0., 0., 0.,\n",
       "        0., 0., 0., 0., 0., 0., 0., 0., 0., 0., 0., 0., 0., 0., 0., 0., 0., 0.,\n",
       "        0., 0., 0., 0., 0., 0., 0., 0., 0., 0., 0., 0., 0., 0., 0., 0., 0., 0.,\n",
       "        0., 0.])"
      ]
     },
     "execution_count": 36,
     "metadata": {},
     "output_type": "execute_result"
    }
   ],
   "source": [
    "# Set biases to all zeros\n",
    "model.fc1.bias.data.fill_(0)"
   ]
  },
  {
   "cell_type": "code",
   "execution_count": 37,
   "metadata": {},
   "outputs": [
    {
     "data": {
      "text/plain": [
       "tensor([[ 0.0178, -0.0006, -0.0028,  ...,  0.0255, -0.0084,  0.0002],\n",
       "        [-0.0154,  0.0156,  0.0009,  ...,  0.0026,  0.0002,  0.0014],\n",
       "        [ 0.0093, -0.0026, -0.0103,  ...,  0.0027, -0.0180, -0.0035],\n",
       "        ...,\n",
       "        [ 0.0028,  0.0062,  0.0016,  ...,  0.0083,  0.0004, -0.0043],\n",
       "        [ 0.0011, -0.0110, -0.0038,  ..., -0.0128, -0.0113, -0.0044],\n",
       "        [-0.0070,  0.0035,  0.0046,  ...,  0.0104,  0.0073, -0.0034]])"
      ]
     },
     "execution_count": 37,
     "metadata": {},
     "output_type": "execute_result"
    }
   ],
   "source": [
    "# sample from random normal with standard dev = 0.01\n",
    "model.fc1.weight.data.normal_(std=0.01)"
   ]
  },
  {
   "cell_type": "markdown",
   "metadata": {},
   "source": [
    "### Forward pass\n",
    "\n",
    "Now that we have a network, let's see what happens when we pass in an image."
   ]
  },
  {
   "cell_type": "code",
   "execution_count": 38,
   "metadata": {},
   "outputs": [
    {
     "data": {
      "image/png": "[encoded data removed]",
      "text/plain": [
       "<Figure size 432x648 with 2 Axes>"
      ]
     },
     "metadata": {
      "image/png": {
       "height": 226,
       "width": 423
      },
      "needs_background": "light"
     },
     "output_type": "display_data"
    }
   ],
   "source": [
    "# Grab some data \n",
    "dataiter = iter(trainloader)\n",
    "images, labels = dataiter.next()\n",
    "\n",
    "# Resize images into a 1D vector, new shape is (batch size, color channels, image pixels) \n",
    "images.resize_(64, 1, 784)\n",
    "# or images.resize_(images.shape[0], 1, 784) to automatically get batch size\n",
    "\n",
    "# Forward pass through the network\n",
    "img_idx = 0\n",
    "ps = model.forward(images[img_idx,:])\n",
    "\n",
    "img = images[img_idx]\n",
    "helper.view_classify(img.view(1, 28, 28), ps)"
   ]
  },
  {
   "cell_type": "markdown",
   "metadata": {},
   "source": [
    "As you can see above, our network has basically no idea what this digit is. It's because we haven't trained it yet, all the weights are random!\n",
    "\n",
    "### Using `nn.Sequential`\n",
    "\n",
    "PyTorch provides a convenient way to build networks like this where a tensor is passed sequentially through operations, `nn.Sequential` ([documentation](https://pytorch.org/docs/master/nn.html#torch.nn.Sequential)). Using this to build the equivalent network:"
   ]
  },
  {
   "cell_type": "code",
   "execution_count": 39,
   "metadata": {},
   "outputs": [
    {
     "name": "stdout",
     "output_type": "stream",
     "text": [
      "Sequential(\n",
      "  (0): Linear(in_features=784, out_features=128, bias=True)\n",
      "  (1): ReLU()\n",
      "  (2): Linear(in_features=128, out_features=64, bias=True)\n",
      "  (3): ReLU()\n",
      "  (4): Linear(in_features=64, out_features=10, bias=True)\n",
      "  (5): Softmax()\n",
      ")\n"
     ]
    },
    {
     "data": {
      "image/png": "[encoded data removed]",
      "text/plain": [
       "<Figure size 432x648 with 2 Axes>"
      ]
     },
     "metadata": {
      "image/png": {
       "height": 226,
       "width": 423
      },
      "needs_background": "light"
     },
     "output_type": "display_data"
    }
   ],
   "source": [
    "# Hyperparameters for our network\n",
    "input_size = 784\n",
    "hidden_sizes = [128, 64]\n",
    "output_size = 10\n",
    "\n",
    "# Build a feed-forward network\n",
    "model = nn.Sequential(nn.Linear(input_size, hidden_sizes[0]),\n",
    "                      nn.ReLU(),\n",
    "                      nn.Linear(hidden_sizes[0], hidden_sizes[1]),\n",
    "                      nn.ReLU(),\n",
    "                      nn.Linear(hidden_sizes[1], output_size),\n",
    "                      nn.Softmax(dim=1))\n",
    "print(model)\n",
    "\n",
    "# Forward pass through the network and display output\n",
    "images, labels = next(iter(trainloader))\n",
    "images.resize_(images.shape[0], 1, 784)\n",
    "ps = model.forward(images[0,:])\n",
    "helper.view_classify(images[0].view(1, 28, 28), ps)"
   ]
  },
  {
   "cell_type": "markdown",
   "metadata": {},
   "source": [
    "The operations are availble by passing in the appropriate index. For example, if you want to get first Linear operation and look at the weights, you'd use `model[0]`."
   ]
  },
  {
   "cell_type": "code",
   "execution_count": 40,
   "metadata": {},
   "outputs": [
    {
     "name": "stdout",
     "output_type": "stream",
     "text": [
      "Linear(in_features=784, out_features=128, bias=True)\n"
     ]
    },
    {
     "data": {
      "text/plain": [
       "Parameter containing:\n",
       "tensor([[ 0.0155,  0.0002, -0.0211,  ...,  0.0176, -0.0039,  0.0175],\n",
       "        [-0.0092, -0.0289, -0.0133,  ...,  0.0255,  0.0222, -0.0313],\n",
       "        [-0.0095, -0.0188,  0.0324,  ...,  0.0326,  0.0224,  0.0139],\n",
       "        ...,\n",
       "        [-0.0106, -0.0070,  0.0169,  ..., -0.0179, -0.0229,  0.0010],\n",
       "        [ 0.0272, -0.0176, -0.0252,  ..., -0.0164,  0.0026, -0.0036],\n",
       "        [ 0.0083, -0.0320,  0.0164,  ..., -0.0194,  0.0014,  0.0190]],\n",
       "       requires_grad=True)"
      ]
     },
     "execution_count": 40,
     "metadata": {},
     "output_type": "execute_result"
    }
   ],
   "source": [
    "print(model[0])\n",
    "model[0].weight"
   ]
  },
  {
   "cell_type": "markdown",
   "metadata": {},
   "source": [
    "You can also pass in an `OrderedDict` to name the individual layers and operations, instead of using incremental integers. Note that dictionary keys must be unique, so _each operation must have a different name_."
   ]
  },
  {
   "cell_type": "code",
   "execution_count": 41,
   "metadata": {},
   "outputs": [
    {
     "data": {
      "text/plain": [
       "Sequential(\n",
       "  (fc1): Linear(in_features=784, out_features=128, bias=True)\n",
       "  (relu1): ReLU()\n",
       "  (fc2): Linear(in_features=128, out_features=64, bias=True)\n",
       "  (relu2): ReLU()\n",
       "  (output): Linear(in_features=64, out_features=10, bias=True)\n",
       "  (softmax): Softmax()\n",
       ")"
      ]
     },
     "execution_count": 41,
     "metadata": {},
     "output_type": "execute_result"
    }
   ],
   "source": [
    "from collections import OrderedDict\n",
    "model = nn.Sequential(OrderedDict([\n",
    "                      ('fc1', nn.Linear(input_size, hidden_sizes[0])),\n",
    "                      ('relu1', nn.ReLU()),\n",
    "                      ('fc2', nn.Linear(hidden_sizes[0], hidden_sizes[1])),\n",
    "                      ('relu2', nn.ReLU()),\n",
    "                      ('output', nn.Linear(hidden_sizes[1], output_size)),\n",
    "                      ('softmax', nn.Softmax(dim=1))]))\n",
    "model"
   ]
  },
  {
   "cell_type": "markdown",
   "metadata": {},
   "source": [
    "Now you can access layers either by integer or the name"
   ]
  },
  {
   "cell_type": "code",
   "execution_count": 42,
   "metadata": {},
   "outputs": [
    {
     "name": "stdout",
     "output_type": "stream",
     "text": [
      "Linear(in_features=784, out_features=128, bias=True)\n",
      "Linear(in_features=784, out_features=128, bias=True)\n"
     ]
    }
   ],
   "source": [
    "print(model[0])\n",
    "print(model.fc1)"
   ]
  },
  {
   "cell_type": "markdown",
   "metadata": {},
   "source": [
    "In the next notebook, we'll see how we can train a neural network to accuractly predict the numbers appearing in the MNIST images."
   ]
  }
 ],
 "metadata": {
  "kernelspec": {
   "display_name": "Python 3",
   "language": "python",
   "name": "python3"
  },
  "language_info": {
   "codemirror_mode": {
    "name": "ipython",
    "version": 3
   },
   "file_extension": ".py",
   "mimetype": "text/x-python",
   "name": "python",
   "nbconvert_exporter": "python",
   "pygments_lexer": "ipython3",
   "version": "3.7.0"
  }
 },
 "nbformat": 4,
 "nbformat_minor": 2
}
