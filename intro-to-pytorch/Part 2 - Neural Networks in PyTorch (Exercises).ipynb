{
 "cells": [
  {
   "cell_type": "markdown",
   "metadata": {},
   "source": [
    "# Neural networks with PyTorch\n",
    "\n",
    "Deep learning networks tend to be massive with dozens or hundreds of layers, that's where the term \"deep\" comes from. You can build one of these deep networks using only weight matrices as we did in the previous notebook, but in general it's very cumbersome and difficult to implement. PyTorch has a nice module `nn` that provides a nice way to efficiently build large neural networks."
   ]
  },
  {
   "cell_type": "code",
   "execution_count": 1,
   "metadata": {},
   "outputs": [],
   "source": [
    "# Import necessary packages\n",
    "\n",
    "%matplotlib inline\n",
    "%config InlineBackend.figure_format = 'retina'\n",
    "\n",
    "import numpy as np\n",
    "import torch\n",
    "\n",
    "import helper\n",
    "\n",
    "import matplotlib.pyplot as plt"
   ]
  },
  {
   "cell_type": "markdown",
   "metadata": {},
   "source": [
    "\n",
    "Now we're going to build a larger network that can solve a (formerly) difficult problem, identifying text in an image. Here we'll use the MNIST dataset which consists of greyscale handwritten digits. Each image is 28x28 pixels, you can see a sample below\n",
    "\n",
    "<img src='assets/mnist.png'>\n",
    "\n",
    "Our goal is to build a neural network that can take one of these images and predict the digit in the image.\n",
    "\n",
    "First up, we need to get our dataset. This is provided through the `torchvision` package. The code below will download the MNIST dataset, then create training and test datasets for us. Don't worry too much about the details here, you'll learn more about this later."
   ]
  },
  {
   "cell_type": "code",
   "execution_count": 22,
   "metadata": {},
   "outputs": [],
   "source": [
    "### Run this cell\n",
    "\n",
    "from torchvision import datasets, transforms\n",
    "\n",
    "# Define a transform to normalize the data\n",
    "transform = transforms.Compose([transforms.ToTensor(),\n",
    "                              transforms.Normalize((0.5, 0.5, 0.5), (0.5, 0.5, 0.5)),\n",
    "                              ])\n",
    "\n",
    "# Download and load the training data\n",
    "trainset = datasets.MNIST('MNIST_data/', download=True, train=True, transform=transform)\n",
    "trainloader = torch.utils.data.DataLoader(trainset, batch_size=64, shuffle=True)"
   ]
  },
  {
   "cell_type": "markdown",
   "metadata": {},
   "source": [
    "We have the training data loaded into `trainloader` and we make that an iterator with `iter(trainloader)`. Later, we'll use this to loop through the dataset for training, like\n",
    "\n",
    "```python\n",
    "for image, label in trainloader:\n",
    "    ## do things with images and labels\n",
    "```\n",
    "\n",
    "You'll notice I created the `trainloader` with a batch size of 64, and `shuffle=True`. The batch size is the number of images we get in one iteration from the data loader and pass through our network, often called a *batch*. And `shuffle=True` tells it to shuffle the dataset every time we start going through the data loader again. But here I'm just grabbing the first batch so we can check out the data. We can see below that `images` is just a tensor with size `(64, 1, 28, 28)`. So, 64 images per batch, 1 color channel, and 28x28 images."
   ]
  },
  {
   "cell_type": "code",
   "execution_count": 23,
   "metadata": {},
   "outputs": [
    {
     "name": "stdout",
     "output_type": "stream",
     "text": [
      "<class 'torch.Tensor'>\n",
      "torch.Size([64, 1, 28, 28])\n",
      "torch.Size([64])\n"
     ]
    }
   ],
   "source": [
    "dataiter = iter(trainloader)\n",
    "images, labels = dataiter.next()\n",
    "print(type(images))\n",
    "print(images.shape)\n",
    "print(labels.shape)"
   ]
  },
  {
   "cell_type": "markdown",
   "metadata": {},
   "source": [
    "This is what one of the images looks like. "
   ]
  },
  {
   "cell_type": "code",
   "execution_count": 25,
   "metadata": {},
   "outputs": [
    {
     "data": {
      "image/png": "[encoded data removed]",
      "text/plain": [
       "<Figure size 432x288 with 1 Axes>"
      ]
     },
     "metadata": {
      "image/png": {
       "height": 250,
       "width": 253
      },
      "needs_background": "light"
     },
     "output_type": "display_data"
    }
   ],
   "source": [
    "plt.imshow(images[1].numpy().squeeze(), cmap='Greys_r');"
   ]
  },
  {
   "cell_type": "markdown",
   "metadata": {},
   "source": [
    "First, let's try to build a simple network for this dataset using weight matrices and matrix multiplications. Then, we'll see how to do it using PyTorch's `nn` module which provides a much more convenient and powerful method for defining network architectures.\n",
    "\n",
    "The networks you've seen so far are called *fully-connected* or *dense* networks. Each unit in one layer is connected to each unit in the next layer. In fully-connected networks, the input to each layer must be a one-dimensional vector (which can be stacked into a 2D tensor as a batch of multiple examples). However, our images are 28x28 2D tensors, so we need to convert them into 1D vectors. Thinking about sizes, we need to convert the batch of images with shape `(64, 1, 28, 28)` to a have a shape of `(64, 784)`, 784 is 28 times 28. This is typically called *flattening*, we flattened the 2D images into 1D vectors.\n",
    "\n",
    "Previously you built a network with one output unit. Here we need 10 output units, one for each digit. We want our network to predict the digit shown in an image, so what we'll do is calculate probabilities that the image is of any one digit or class. This ends up being a discrete probability distribution over the classes (digits) that tells us the most likely class for the image. That means we need 10 output units for the 10 classes (digits). We'll see how to convert the network output into a probability distribution next.\n",
    "\n",
    "> **Exercise:** Flatten the batch of images `images`. Then build a multi-layer network with 784 input units, 256 hidden units, and 10 output units using random tensors for the weights and biases. For now, use a sigmoid activation for the hidden layer. Leave the output layer without an activation, we'll add one that gives us a probability distribution next."
   ]
  },
  {
   "cell_type": "code",
   "execution_count": 26,
   "metadata": {},
   "outputs": [
    {
     "data": {
      "text/plain": [
       "tensor([[ -8.1840,   4.0212,  10.2381,  -5.2170,   9.3429,  -0.2991,  -3.4401,\n",
       "           0.9238,  -6.9977,   2.6643],\n",
       "        [  0.4436,   4.7337,  26.5042,   5.3745,   6.9872,  -6.1442, -10.9236,\n",
       "          -3.8293,  -5.3619,  -2.4721],\n",
       "        [ -9.0833,   4.9058,  13.6788,  -4.3768,  12.9371,  -5.0981, -18.7091,\n",
       "          10.9070,  -6.6079,   3.1220],\n",
       "        [-11.0351,  -6.6824,  20.9599,  -2.5341,  -4.4952,   0.9555,  -6.4033,\n",
       "           7.9210,   6.5887,  -6.2641],\n",
       "        [  1.6447,  -3.8628,   4.3771,  -6.3688,   3.8023,   1.0870,  -7.7126,\n",
       "           5.7998,   4.8256,  -1.4662],\n",
       "        [-15.6172,  -0.4760,   8.3021, -12.9941,  14.3690,  -8.5273,  -5.3644,\n",
       "          13.0126,  -5.1439,   1.8061],\n",
       "        [  3.8190,  -1.5447,  16.5224,  -3.9688,  15.9341,   1.7783, -17.3498,\n",
       "           3.2672,  -1.5133,   0.2237],\n",
       "        [-12.8084,  -4.6305,  20.5591, -11.4192,  -4.1526,  -2.0625,  -8.2961,\n",
       "           4.1172,   1.8344,  -7.1176],\n",
       "        [ -7.3761,  -2.8957,  14.9890,   2.9640,   7.1059,  -7.5190,  -9.9768,\n",
       "          10.2844,   6.8072,   0.7344],\n",
       "        [ 10.2386,  -4.0140,  23.9207,  -1.6493,   6.8286,  -2.0786,  -9.5001,\n",
       "           3.9680,  -3.9674,   2.1288],\n",
       "        [ -6.1569,  -9.4845,  12.0454,  -7.6033,   2.4950, -10.7121,  -0.3241,\n",
       "          14.2268,  -8.7804, -12.8984],\n",
       "        [ -7.8651,   4.1357,  13.1574, -16.3402,  22.1954,   0.9223, -14.1276,\n",
       "          23.2594,   1.0728, -11.5555],\n",
       "        [ -6.5314,   4.0890,  13.6315,  -9.5012,  17.0013,  -5.0427, -18.3199,\n",
       "           7.3308,  -2.8332,  -6.4995],\n",
       "        [  0.6296,  -5.9943,  17.1074,  -2.6347,   3.9032,  18.8283,  -7.4676,\n",
       "           0.8548,   6.3241, -12.1369],\n",
       "        [ -9.4797,  -6.8637,   6.5516,  -6.3962,  24.0011,  -1.6251,  -6.3774,\n",
       "          -0.0243,   1.7117,  -9.1620],\n",
       "        [ -5.3431, -12.9959,   7.5459,  -5.3600,  17.7462,   0.9267, -17.7702,\n",
       "           1.5764,   5.3444, -11.1737],\n",
       "        [  2.5766,  -5.0593,  24.1426,  -6.6610,  -0.8672, -16.6249, -11.0944,\n",
       "           4.5498,  -6.8265,  -4.8545],\n",
       "        [-10.1434,  -6.8832,  17.4090, -12.0046,  23.6894,  -9.4958, -12.8582,\n",
       "          -0.7433,   0.7834,   1.3919],\n",
       "        [-20.8955,   8.9963,  11.9345, -13.2260,  14.0025, -13.7008,  -9.6981,\n",
       "          -2.0005,  -0.4661,  -4.5710],\n",
       "        [ -6.2516,  -4.3956,  16.9582, -12.9910,   8.4849,  -3.1725, -19.5071,\n",
       "           5.5670,   8.8020,  -3.9713],\n",
       "        [ -7.1003,  -8.1888,  12.3156, -13.8405,  16.5495,  -2.7649,   1.0472,\n",
       "          14.3420,   4.9389,  -9.3967],\n",
       "        [ -3.6642, -13.5921,  14.4610,  -2.7276,  -2.8626,  12.2641, -17.1502,\n",
       "          13.1558,  12.9785,  -3.3291],\n",
       "        [ -6.4164,  -7.1947,  19.3305,  -7.1906,   9.2109,   5.6456, -12.6502,\n",
       "           2.6769,   4.9944,  -8.0376],\n",
       "        [  4.5632,  -1.9800,  25.5043,   1.3074,   3.6903,   6.7972, -13.3952,\n",
       "           4.4058,  11.5706,   6.9852],\n",
       "        [ -5.3228,  -2.9932,  13.3757, -14.2570,  10.4889, -20.5281, -20.1530,\n",
       "           2.8609,  -5.6013,   0.0559],\n",
       "        [-14.3929,  -6.6386,  18.9793,  -8.6039,   3.8290, -10.1486,  -9.0350,\n",
       "           3.5716,  -1.6653,  -3.3292],\n",
       "        [ -2.2283, -10.5723,  11.8214,  -6.0674,  17.7355,  -2.0003, -14.6161,\n",
       "          -3.5334,   3.2944,  -7.3053],\n",
       "        [-10.7974, -10.5719,  15.9996, -17.5162,   5.9335,  -0.8335, -12.6193,\n",
       "          -3.4978,   0.5375,  -2.8366],\n",
       "        [ -8.6327,  -4.1768,  26.0647, -11.4144,  14.8631,   0.8501, -20.2432,\n",
       "          -2.1810,  12.3855,   4.2019],\n",
       "        [-14.0415,  -4.1243,  15.5738,  -9.1104,   6.4073,   8.0275, -12.0691,\n",
       "          12.8224,   1.3298,  -4.0693],\n",
       "        [ -5.5059,  -8.3463,  11.6222,  -7.2179,   8.2581,  -3.6635, -16.2514,\n",
       "          -2.6651,  -3.0631,  -7.5878],\n",
       "        [ -6.7735,  -9.5800,   7.0545, -10.2064,  22.4822,  -2.7657, -16.7215,\n",
       "           5.1555,   0.0135, -10.3182],\n",
       "        [ -8.9397,   4.9368,  11.0365,  -7.6630,   8.2023,   2.5176, -11.6902,\n",
       "           4.5174,   3.4119,  -7.8745],\n",
       "        [ -6.6923,  -3.6005,  18.5412,  -1.1558,  -1.5619,  -3.4985, -13.8256,\n",
       "           1.4098,   3.9669,   8.1821],\n",
       "        [  0.9927,   4.9049,  19.5970,  -6.0027,  10.8060,  -3.3841, -15.6095,\n",
       "           2.1160,  -7.0574,   0.3139],\n",
       "        [-13.5311,   4.8806,  15.3565,  -5.2022,   8.0253,   4.8146, -16.9478,\n",
       "           5.9846,  -1.3521,  -3.7941],\n",
       "        [ -3.1519,   2.8079,  14.5772, -11.1104,  14.4090,  -9.1838, -14.2362,\n",
       "           5.2930,  -1.4142,  -7.3972],\n",
       "        [ -0.1468,  -6.1267,  15.0452,  -2.4221,   5.3888,  12.1851,  -9.7575,\n",
       "          -1.7549,   0.2683,   3.5679],\n",
       "        [-12.4692,  -0.1193,  23.5240, -12.4958,  23.7685,   2.0939, -15.0488,\n",
       "          14.1139,   2.6425,  -2.4458],\n",
       "        [  0.1635, -10.4278,  17.5736, -12.2228,  20.3519,   4.3768, -10.7962,\n",
       "          11.2119,  -3.7548,  -8.8838],\n",
       "        [ -8.0127,  -3.3494,   9.6512,  -5.5426,  20.0919,  -4.3545, -11.8063,\n",
       "          -1.8548,   2.0752,   1.2403],\n",
       "        [ -7.8920,   6.2800,  24.7912,  -3.0330,  11.2105,  -4.5758, -20.3085,\n",
       "          -2.6290,  15.4198,   1.9461],\n",
       "        [  4.3029,  -1.2915,  20.9859,   4.9508,  15.3710,  -1.5599, -11.3181,\n",
       "           7.8220,   4.0981,   2.9651],\n",
       "        [  3.2292,  -8.7258,  12.1526,  -6.3843,  22.0770,   0.2334,  -6.9083,\n",
       "          -0.4551,  -0.9266,  -8.4255],\n",
       "        [ -5.4518,   3.4646,  23.1716,  -0.3785,   5.2932,  -6.0702,  -4.2370,\n",
       "          -1.6938,  12.3982,   2.5452],\n",
       "        [ -3.3212,  -5.6653,  14.1006, -11.1607,   0.7479,  -3.2279, -21.4223,\n",
       "           3.1394,  12.5571, -10.6966],\n",
       "        [ -6.9584,  -1.7216,  27.9718,  -1.8164,   2.5311,  -4.8660, -14.5579,\n",
       "           1.3002,   9.5294, -10.9263],\n",
       "        [-10.5644,  -4.6015,  18.2112, -12.0397,  15.0656,  -6.1168, -16.7796,\n",
       "          14.5603,   5.9535,  -9.8593],\n",
       "        [ -8.8378, -10.2536,  15.6900,  -1.4071,   8.4834,  11.3601, -16.6786,\n",
       "           8.0575,   1.0922,  -2.9168],\n",
       "        [-18.1455,   1.7477,  19.5235, -16.7821,  11.0431, -15.7399,  -7.0026,\n",
       "           5.9272,   0.6745,  -5.7335],\n",
       "        [ -1.9906,  -7.0544,  20.4447, -14.0162,   8.4280, -14.4351, -13.4370,\n",
       "           6.8367,  -3.3369,  -0.7699],\n",
       "        [-15.2326,  -4.4002,  16.1096, -11.3452,  15.8875,  -6.6219, -11.8552,\n",
       "          13.7704,   4.7686,  -9.3598],\n",
       "        [ -6.1084,   0.4809,  14.8285,  -0.6291,  11.0085,  -5.6357, -15.5110,\n",
       "           4.3276,   4.9660,  -7.6389],\n",
       "        [  4.7896,   0.9315,  26.4598,   1.8484,   4.2508,  -0.3842,  -8.1775,\n",
       "           3.0377,   2.6547,   8.2695],\n",
       "        [-11.9801,  -7.9822,  31.2496,   1.9692,   8.6566,  -4.6706,  -4.7614,\n",
       "           5.4319,  -1.6394, -11.8262],\n",
       "        [ -7.5266, -12.5852,  14.3433, -12.9681,  -2.3107,  -5.9446,  -5.8305,\n",
       "           6.5000,  -1.0270,  -9.5741],\n",
       "        [-17.4428,   8.4628,  18.0842,  -5.3899,  13.4243,  -4.2855, -16.2016,\n",
       "           5.4772,   8.5764,   2.4579],\n",
       "        [ -7.4238,  -4.0435,  16.1970,  -3.9820,   8.0210,  -6.0586, -18.4695,\n",
       "           7.2522,   8.9616,  -4.7402],\n",
       "        [ -2.3940,   7.5812,   9.5715,   2.1070,   8.3391,   6.9052,  -8.0285,\n",
       "          -2.7167,  -0.6733,  -2.7543],\n",
       "        [ -5.6444,   1.6097,  18.5847,  -3.4702,  14.7667,   8.0199, -16.3892,\n",
       "          -1.9424,   9.7007, -11.3924],\n",
       "        [  7.2228,   1.8615,  17.6405,   1.7161,   7.1120,   4.3184, -13.2497,\n",
       "           2.9244,  -0.3608,  -0.9072],\n",
       "        [-11.1037,  -3.2448,  16.9839,  -4.5136,   1.0786,   0.9490,  -6.2559,\n",
       "           0.8571,   1.4631,   0.3026],\n",
       "        [ -5.1546,   3.7860,  27.5527, -11.7669,   0.9661,  -8.5464, -17.4798,\n",
       "           4.3948,  -2.6935,   9.0139],\n",
       "        [-22.2323,   0.8197,  22.7749,  -0.6244,  -2.4114,  -2.8376,  -7.7786,\n",
       "           7.1920,  -2.3989,   0.7160]])"
      ]
     },
     "execution_count": 26,
     "metadata": {},
     "output_type": "execute_result"
    }
   ],
   "source": [
    "## Your solution\n",
    "def activation(x):\n",
    "    \"\"\" Sigmoid activation function \n",
    "    \n",
    "        Arguments\n",
    "        ---------\n",
    "        x: torch.Tensor\n",
    "    \"\"\"\n",
    "    return 1/(1+torch.exp(-x))\n",
    "\n",
    "im = images.view(64, 784)\n",
    "W1 = torch.randn(784, 256)\n",
    "W2 = torch.randn(256, 10)\n",
    "\n",
    "B1 = torch.randn(1, 256)\n",
    "B2 = torch.randn(1, 10)\n",
    "\n",
    "h = activation(torch.mm(im,W1) + B1)\n",
    "Y = torch.mm(h, W2) + B2\n",
    "Y\n",
    "\n",
    "# out = # output of your network, should have shape (64,10)"
   ]
  },
  {
   "cell_type": "code",
   "execution_count": 31,
   "metadata": {},
   "outputs": [
    {
     "data": {
      "text/plain": [
       "torch.Size([64, 1, 28, 28])"
      ]
     },
     "execution_count": 31,
     "metadata": {},
     "output_type": "execute_result"
    }
   ],
   "source": [
    "images.shape"
   ]
  },
  {
   "cell_type": "code",
   "execution_count": 6,
   "metadata": {},
   "outputs": [
    {
     "data": {
      "text/plain": [
       "tensor([[-36.8743,  11.6945,  10.2664,  12.7212,  10.2030,   7.3129,  -2.7944,\n",
       "          15.2781, -15.2758,  -0.1442],\n",
       "        [-50.4428,   0.3930,  -0.5831,  24.1602,  12.2223,  13.2173,  -6.5444,\n",
       "          14.0885,   0.4573,  -3.2720],\n",
       "        [-31.9779,  -4.2144,   1.8044,  23.4948,  12.3598,   0.4733,   0.6740,\n",
       "           2.1585, -12.5630,   4.7504],\n",
       "        [-34.8800,   4.8866,   3.8222,  13.4158,  11.2034,  -1.1883, -11.6378,\n",
       "          13.5644,  -4.8128,  -5.7603],\n",
       "        [-42.7485,   1.0298,  -3.5728,  15.1612,  15.9103,  -5.9708, -16.0050,\n",
       "           6.7190,  -5.7205,   2.2011],\n",
       "        [-36.8564,  -0.4183,   1.5386,  18.2986,  14.6967,   4.6489,   1.6324,\n",
       "          17.0187,  -1.2252,  -8.3143],\n",
       "        [-42.8344,   4.8701,  11.2316,  20.7729,  16.2880,   3.5719,  -8.3708,\n",
       "           2.1344,  -6.7024,   4.3652],\n",
       "        [-48.4868,   2.0385,   4.4010,  16.0157,   8.6083,  10.9799,  -7.6120,\n",
       "          16.4582,  -3.7150,  -7.6998],\n",
       "        [-48.0129,   5.4250,  -3.1100,  15.8414,  12.7880,   7.3956,   1.3860,\n",
       "          17.4268,  -9.8166,  -1.7196],\n",
       "        [-33.7456,   4.4866,   4.4513,  15.4018,  18.4625,   6.7719,  -1.1937,\n",
       "           7.9676,  -4.6156,  -3.6365],\n",
       "        [-33.4782,  -0.4788,  -0.9230,  13.2783,  18.1195,   5.7778,  -1.8622,\n",
       "           1.4229,  -2.7561,   2.8916],\n",
       "        [-45.3261,   8.3600,   5.2945,  21.0767,  17.4710,   6.6831,  -3.0765,\n",
       "          12.6844,  -5.3878,   0.2638],\n",
       "        [-34.3059,   0.5796,  13.3980,  21.7717,  12.8036,   7.0122,   3.3571,\n",
       "          15.3124,  -2.7218,  -2.7523],\n",
       "        [-37.4314,   1.2355,   8.1186,   5.7617,  14.8413,   5.8210,  -0.8339,\n",
       "           4.7618,  -0.1165,   0.3301],\n",
       "        [-48.9908,  -5.5883,   5.7562,  29.1505,  18.4987,  12.1491,   3.7944,\n",
       "          19.6023,  -0.9287,  -2.7319],\n",
       "        [-33.4601,   1.6955,  10.0148,  23.5028,   5.9420,  -1.3325,  -0.4020,\n",
       "          31.2073,  -6.2692,   3.9988],\n",
       "        [-35.2913,  -1.7848,  -8.6508,  15.3761,  12.0945,   9.4481,   0.8826,\n",
       "           4.3500,   0.0938,   0.5018],\n",
       "        [-40.7934,   4.8295,   1.8745,   6.7805,  16.2593,   4.5518, -11.3525,\n",
       "          16.7972, -11.6342,   7.3197],\n",
       "        [-42.4273,   7.4516,   5.2884,  15.9430,  -0.5781,   0.5870,  -5.9849,\n",
       "          23.5920, -10.6414,  -0.5196],\n",
       "        [-40.6136,  -3.0095,  11.7692,  15.1898,  18.9563,   5.2039,  -1.0136,\n",
       "          16.6446,  -9.9455,  -5.1963],\n",
       "        [-35.2272,   0.2921,  -1.2438,  17.5970,  16.3814,  -5.9523, -12.7021,\n",
       "           9.4528,  -1.2148,  -3.5553],\n",
       "        [-34.4336,   6.7009,   4.0649,  17.8617,  20.4451,   2.9293,  -7.0906,\n",
       "          14.8270,  -9.8768,  -5.5161],\n",
       "        [-36.7453,   6.6094,   6.1189,  17.5684,  17.0509,   3.6343,   1.5109,\n",
       "          10.0539,  -4.9484,  -0.1885],\n",
       "        [-44.3405,   5.5770,   7.3903,   7.1834,  11.1209,   9.5669,   0.5144,\n",
       "           6.4313,  -5.0372,  -0.1472],\n",
       "        [-35.1955,   6.6422,  -0.4061,   6.4443,  11.8635,   2.5238, -12.7625,\n",
       "           5.8887, -19.6577,  -3.6752],\n",
       "        [-38.1952,   3.5881,   9.3651,  21.0907,  16.4890,   0.0741,  -2.2689,\n",
       "          21.7566,  -9.8330,  -2.3560],\n",
       "        [-33.2982,   3.0741,  -3.8129,  13.3528,  16.5427,   9.0891,  -8.1514,\n",
       "           9.3605,   2.5121,  -5.2525],\n",
       "        [-35.5792,  12.5930,  10.2085,  23.0156,  13.0090,   5.0252,  -1.8386,\n",
       "          24.0191,  -9.1443,   8.2545],\n",
       "        [-27.3310,  11.0432,  17.5807,  11.1331,  13.4055,  -0.8084,  -3.8566,\n",
       "           6.4716, -11.8210,  -1.7081],\n",
       "        [-38.5270,  13.5675,   8.3575,  28.0433,  13.8037,   0.6927,   6.0262,\n",
       "          11.6739,  -3.5402,   6.8920],\n",
       "        [-27.1462,   4.1965,   4.3686,   8.3228,  14.0024,  -0.5178,  -9.7328,\n",
       "           9.6580, -11.1164,  -8.7175],\n",
       "        [-39.2929,   0.5215,   5.1135,   9.3022,  21.9364,   1.3651,  -9.4033,\n",
       "           6.1220, -11.7516,  -1.1571],\n",
       "        [-36.9298,   0.7169,   1.5376,  13.3949,  20.7355,  -2.6932,  -5.6602,\n",
       "          16.2543,   2.2022,  -4.2239],\n",
       "        [-40.1776,   8.7739,   2.0522,  19.0256,  19.8630,   2.2947,   0.9953,\n",
       "          20.1519,  -8.6629,  -8.8397],\n",
       "        [-41.2466,   0.0655,   6.5749,  15.0030,  18.6608,  14.7856,  -5.8345,\n",
       "          15.4296,  -4.0231,  -3.9236],\n",
       "        [-42.0223,  -3.8139,   1.4259,  21.6646,  17.7470,   0.1246,  -5.9836,\n",
       "           9.7987,   6.4026,  -4.2040],\n",
       "        [-43.7078,   8.8861,  11.2004,  14.0115,   9.9144,   5.9140,  -3.5000,\n",
       "          17.3842,  -1.3588,  -7.4860],\n",
       "        [-35.1645,   6.0583,   7.1918,  11.4321,  22.0454,   2.6306,  -9.9055,\n",
       "           9.5948, -12.5978,  -3.0447],\n",
       "        [-48.0972,   2.1127,  -1.9839,  13.4620,  10.3564,  11.9496,  -6.9200,\n",
       "           8.4372,   5.9840, -13.9091],\n",
       "        [-30.2856,   1.2123,   3.5151,  18.1488,  20.3262,   2.1918,  -6.2078,\n",
       "          16.4440, -10.8603,   1.7987],\n",
       "        [-43.2145,   2.6148,  -0.7780,  21.2346,  14.5281,  11.9823,  -5.9671,\n",
       "           8.4877,  -4.4027,  -3.3720],\n",
       "        [-33.0652,  11.0986,  -2.0250,   6.4769,  22.7295,  -0.7457, -12.3656,\n",
       "           6.0990,  -9.4877,  -2.8268],\n",
       "        [-37.1193,  10.7095,  10.7473,  11.0695,  14.6616,  -4.0589, -12.6634,\n",
       "           5.1754, -10.1761,  -2.0902],\n",
       "        [-37.2978,  -1.2187,  11.0132,   4.1625,  24.5746,   1.5371, -15.8409,\n",
       "          11.1172,  -6.1412,  -2.9944],\n",
       "        [-51.0470,   5.7549,   7.0486,  24.0762,  11.8817,   4.9740,   0.2816,\n",
       "          20.1308,  -5.2436,   6.8533],\n",
       "        [-44.9851,  -1.6444,  -2.0698,  16.9101,  15.0787,   3.4702,  -4.2261,\n",
       "          -0.8364,   0.7027,  -5.2622],\n",
       "        [-41.2905,  10.8135,  12.9611,  19.1681,   7.4034,   7.8781,  -3.3031,\n",
       "          14.8738,  -5.9924,  -0.7766],\n",
       "        [-43.3978,   4.2817,   3.7334,  19.3657,   8.5117,  12.3121,  -5.7298,\n",
       "           8.4517,  -5.3811, -15.7831],\n",
       "        [-41.2999,  -1.0873,  -9.2506,  14.1700,  15.2325,   0.4702,   3.1360,\n",
       "          18.0332,  -2.4107,   4.1305],\n",
       "        [-44.0146,   0.7350, -10.0027,  30.2001,  21.6782,   3.0852,  -2.7736,\n",
       "          14.1187,  -7.3074, -10.3127],\n",
       "        [-42.8803,  -0.6819,   2.4647,  18.5366,  11.0684,  -4.3953,   2.9888,\n",
       "           9.9294,  -6.5249,   1.7910],\n",
       "        [-29.3037,   5.2389,   3.8894,  23.1305,  17.5408,   5.3111, -10.8805,\n",
       "          19.4920, -14.3482,   2.6982],\n",
       "        [-38.4807,   9.0645,   9.3662,  14.1973,  25.1628,   6.5368,   3.5011,\n",
       "          10.3718,  -9.5440,   2.8766],\n",
       "        [-36.9335,  -3.4674,  -1.7883,   5.1954,  16.5280,  13.4189,   4.5040,\n",
       "          10.1048,  -5.3389,   3.6443],\n",
       "        [-35.6279,   6.7318,   9.3027,  14.6227,  26.1338,   1.1349,  -6.8656,\n",
       "           5.0522,  -5.7236,  -0.7790],\n",
       "        [-40.9320,   5.5896,   1.1476,  17.0070,  19.2401,   4.4057,  -4.6739,\n",
       "           5.6092,  -5.0325,   5.6858],\n",
       "        [-52.2285,  -7.8575,   0.8514,  17.6496,  11.0318,  13.4693,   3.8852,\n",
       "          11.3485,   2.7966,  -0.7699],\n",
       "        [-47.5474,  -5.2875,   0.5199,  23.3334,  15.0633,  12.0728,  -4.7957,\n",
       "           6.0221,  -0.8959,  -0.2111],\n",
       "        [-42.1080,   6.7172,   7.4809,  12.1192,  14.9551,   0.0822,  -1.2038,\n",
       "          11.9549,  -3.6754,   2.3174],\n",
       "        [-32.1360,   8.0390,   1.9802,  14.9487,  15.2210,   6.4085,  -7.9314,\n",
       "          17.5785, -20.6563,  -2.2336],\n",
       "        [-38.7411,   6.4128,  -6.3603,  21.0821,  10.8199,   5.2244, -12.0405,\n",
       "           8.2800, -10.5608,   2.7534],\n",
       "        [-31.7318,   0.4526,   8.4684,  10.4153,  20.7645,  -3.6918,  -3.6250,\n",
       "          11.6254,  -6.9441,  -5.6269],\n",
       "        [-41.3811,  10.3521,   5.9811,  17.4036,  19.5820,   3.6061,  -0.1980,\n",
       "          17.5673,  -2.8313,   5.0553],\n",
       "        [-37.4226,   3.3863,   9.7034,  17.4033,  16.2022,   2.5714,   7.6119,\n",
       "          31.0857,  -6.9799,   1.4784]])"
      ]
     },
     "execution_count": 6,
     "metadata": {},
     "output_type": "execute_result"
    }
   ],
   "source": [
    "## Solution\n",
    "def activation(x):\n",
    "    return 1/(1+torch.exp(-x))\n",
    "\n",
    "# Flatten the input images\n",
    "inputs = images.view(images.shape[0], -1)\n",
    "\n",
    "# Create parameters\n",
    "w1 = torch.randn(784, 256)\n",
    "b1 = torch.randn(256)\n",
    "\n",
    "w2 = torch.randn(256, 10)\n",
    "b2 = torch.randn(10)\n",
    "\n",
    "h = activation(torch.mm(inputs, w1) + b1)\n",
    "\n",
    "out = torch.mm(h, w2) + b2\n",
    "out"
   ]
  },
  {
   "cell_type": "markdown",
   "metadata": {},
   "source": [
    "Now we have 10 outputs for our network. We want to pass in an image to our network and get out a probability distribution over the classes that tells us the likely class(es) the image belongs to. Something that looks like this:\n",
    "<img src='assets/image_distribution.png' width=500px>\n",
    "\n",
    "Here we see that the probability for each class is roughly the same. This is representing an untrained network, it hasn't seen any data yet so it just returns a uniform distribution with equal probabilities for each class.\n",
    "\n",
    "To calculate this probability distribution, we often use the [**softmax** function](https://en.wikipedia.org/wiki/Softmax_function). Mathematically this looks like\n",
    "\n",
    "$$\n",
    "\\Large \\sigma(x_i) = \\cfrac{e^{x_i}}{\\sum_k^K{e^{x_k}}}\n",
    "$$\n",
    "\n",
    "What this does is squish each input $x_i$ between 0 and 1 and normalizes the values to give you a proper probability distribution where the probabilites sum up to one.\n",
    "\n",
    "> **Exercise:** Implement a function `softmax` that performs the softmax calculation and returns probability distributions for each example in the batch. Note that you'll need to pay attention to the shapes when doing this. If you have a tensor `a` with shape `(64, 10)` and a tensor `b` with shape `(64,)`, doing `a/b` will give you an error because PyTorch will try to do the division across the columns (called broadcasting) but you'll get a size mismatch. The way to think about this is for each of the 64 examples, you only want to divide by one value, the sum in the denominator. So you need `b` to have a shape of `(64, 1)`. This way PyTorch will divide the 10 values in each row of `a` by the one value in each row of `b`. Pay attention to how you take the sum as well. You'll need to define the `dim` keyword in `torch.sum`. Setting `dim=0` takes the sum across the rows while `dim=1` takes the sum across the columns."
   ]
  },
  {
   "cell_type": "code",
   "execution_count": 41,
   "metadata": {},
   "outputs": [
    {
     "name": "stdout",
     "output_type": "stream",
     "text": [
      "torch.Size([64, 10])\n",
      "tensor([1.0000, 1.0000, 1.0000, 1.0000, 1.0000, 1.0000, 1.0000, 1.0000, 1.0000,\n",
      "        1.0000, 1.0000, 1.0000, 1.0000, 1.0000, 1.0000, 1.0000, 1.0000, 1.0000,\n",
      "        1.0000, 1.0000, 1.0000, 1.0000, 1.0000, 1.0000, 1.0000, 1.0000, 1.0000,\n",
      "        1.0000, 1.0000, 1.0000, 1.0000, 1.0000, 1.0000, 1.0000, 1.0000, 1.0000,\n",
      "        1.0000, 1.0000, 1.0000, 1.0000, 1.0000, 1.0000, 1.0000, 1.0000, 1.0000,\n",
      "        1.0000, 1.0000, 1.0000, 1.0000, 1.0000, 1.0000, 1.0000, 1.0000, 1.0000,\n",
      "        1.0000, 1.0000, 1.0000, 1.0000, 1.0000, 1.0000, 1.0000, 1.0000, 1.0000,\n",
      "        1.0000])\n"
     ]
    }
   ],
   "source": [
    "def softmax(x):\n",
    "    ## TODO: Implement the softmax function here\n",
    "    y = torch.exp(x)\n",
    "    denominator = torch.sum(y, dim = 1).view(y.shape[0],1)##out.shape finds row number of the inputted matrix\n",
    "    y /= denominator\n",
    "    return y\n",
    "\n",
    "# Here, out should be the output of the network in the previous excercise with shape (64,10)\n",
    "probabilities = softmax(out)\n",
    "\n",
    "# Does it have the right shape? Should be (64, 10)\n",
    "print(probabilities.shape)\n",
    "# Does it sum to 1?\n",
    "print(probabilities.sum(dim=1))"
   ]
  },
  {
   "cell_type": "markdown",
   "metadata": {},
   "source": [
    "## Building networks with PyTorch\n",
    "\n",
    "PyTorch provides a module `nn` that makes building networks much simpler. Here I'll show you how to build the same one as above with 784 inputs, 256 hidden units, 10 output units and a softmax output."
   ]
  },
  {
   "cell_type": "code",
   "execution_count": 8,
   "metadata": {},
   "outputs": [],
   "source": [
    "from torch import nn"
   ]
  },
  {
   "cell_type": "code",
   "execution_count": 52,
   "metadata": {},
   "outputs": [],
   "source": [
    "class Network(nn.Module):\n",
    "    def __init__(self):\n",
    "        super().__init__()\n",
    "        \n",
    "        # Inputs to hidden layer linear transformation\n",
    "        self.hidden = nn.Linear(784, 256)\n",
    "        # Output layer, 10 units - one for each digit\n",
    "        self.output = nn.Linear(256, 10)\n",
    "        \n",
    "        # Define sigmoid activation and softmax output \n",
    "        self.sigmoid = nn.Sigmoid()\n",
    "        self.softmax = nn.Softmax(dim=1)\n",
    "        print(type(self))\n",
    "        \n",
    "    def forward(self, x):\n",
    "        # Pass the input tensor through each of our operations\n",
    "        x = self.hidden(x)\n",
    "        x = self.sigmoid(x)\n",
    "        x = self.output(x)\n",
    "        x = self.softmax(x)\n",
    "        print(type(self))\n",
    "        \n",
    "        return x"
   ]
  },
  {
   "cell_type": "markdown",
   "metadata": {},
   "source": [
    "Let's go through this bit by bit.\n",
    "\n",
    "```python\n",
    "class Network(nn.Module):\n",
    "```\n",
    "\n",
    "Here we're inheriting from `nn.Module`. Combined with `super().__init__()` this creates a class that tracks the architecture and provides a lot of useful methods and attributes. It is mandatory to inherit from `nn.Module` when you're creating a class for your network. The name of the class itself can be anything.\n",
    "\n",
    "```python\n",
    "self.hidden = nn.Linear(784, 256)\n",
    "```\n",
    "\n",
    "This line creates a module for a linear transformation, $x\\mathbf{W} + b$, with 784 inputs and 256 outputs and assigns it to `self.hidden`. The module automatically creates the weight and bias tensors which we'll use in the `forward` method. You can access the weight and bias tensors once the network once it's create at `net.hidden.weight` and `net.hidden.bias`.\n",
    "\n",
    "```python\n",
    "self.output = nn.Linear(256, 10)\n",
    "```\n",
    "\n",
    "Similarly, this creates another linear transformation with 256 inputs and 10 outputs.\n",
    "\n",
    "```python\n",
    "self.sigmoid = nn.Sigmoid()\n",
    "self.softmax = nn.Softmax(dim=1)\n",
    "```\n",
    "\n",
    "Here I defined operations for the sigmoid activation and softmax output. Setting `dim=1` in `nn.Softmax(dim=1)` calculates softmax across the columns.\n",
    "\n",
    "```python\n",
    "def forward(self, x):\n",
    "```\n",
    "\n",
    "PyTorch networks created with `nn.Module` must have a `forward` method defined. It takes in a tensor `x` and passes it through the operations you defined in the `__init__` method.\n",
    "\n",
    "```python\n",
    "x = self.hidden(x)\n",
    "x = self.sigmoid(x)\n",
    "x = self.output(x)\n",
    "x = self.softmax(x)\n",
    "```\n",
    "\n",
    "Here the input tensor `x` is passed through each operation a reassigned to `x`. We can see that the input tensor goes through the hidden layer, then a sigmoid function, then the output layer, and finally the softmax function. It doesn't matter what you name the variables here, as long as the inputs and outputs of the operations match the network architecture you want to build. The order in which you define things in the `__init__` method doesn't matter, but you'll need to sequence the operations correctly in the `forward` method.\n",
    "\n",
    "Now we can create a `Network` object."
   ]
  },
  {
   "cell_type": "code",
   "execution_count": 53,
   "metadata": {},
   "outputs": [
    {
     "name": "stdout",
     "output_type": "stream",
     "text": [
      "<class '__main__.Network'>\n"
     ]
    },
    {
     "data": {
      "text/plain": [
       "Network(\n",
       "  (hidden): Linear(in_features=784, out_features=256, bias=True)\n",
       "  (output): Linear(in_features=256, out_features=10, bias=True)\n",
       "  (sigmoid): Sigmoid()\n",
       "  (softmax): Softmax()\n",
       ")"
      ]
     },
     "execution_count": 53,
     "metadata": {},
     "output_type": "execute_result"
    }
   ],
   "source": [
    "# Create the network and look at it's text representation\n",
    "model = Network()\n",
    "model"
   ]
  },
  {
   "cell_type": "markdown",
   "metadata": {},
   "source": [
    "You can define the network somewhat more concisely and clearly using the `torch.nn.functional` module. This is the most common way you'll see networks defined as many operations are simple element-wise functions. We normally import this module as `F`, `import torch.nn.functional as F`."
   ]
  },
  {
   "cell_type": "code",
   "execution_count": 54,
   "metadata": {},
   "outputs": [],
   "source": [
    "import torch.nn.functional as F\n",
    "\n",
    "class Network(nn.Module):\n",
    "    def __init__(self):\n",
    "        super().__init__()\n",
    "        # Inputs to hidden layer linear transformation\n",
    "        self.hidden = nn.Linear(784, 256)\n",
    "        # Output layer, 10 units - one for each digit\n",
    "        self.output = nn.Linear(256, 10)\n",
    "        \n",
    "    def forward(self, x):\n",
    "        # Hidden layer with sigmoid activation\n",
    "        x = F.sigmoid(self.hidden(x))\n",
    "        # Output layer with softmax activation\n",
    "        x = F.softmax(self.output(x), dim=1)\n",
    "        \n",
    "        return x"
   ]
  },
  {
   "cell_type": "markdown",
   "metadata": {},
   "source": [
    "### Activation functions\n",
    "\n",
    "So far we've only been looking at the softmax activation, but in general any function can be used as an activation function. The only requirement is that for a network to approximate a non-linear function, the activation functions must be non-linear. Here are a few more examples of common activation functions: Tanh (hyperbolic tangent), and ReLU (rectified linear unit).\n",
    "\n",
    "<img src=\"assets/activation.png\" width=700px>\n",
    "\n",
    "In practice, the ReLU function is used almost exclusively as the activation function for hidden layers."
   ]
  },
  {
   "cell_type": "markdown",
   "metadata": {},
   "source": [
    "### Your Turn to Build a Network\n",
    "\n",
    "<img src=\"assets/mlp_mnist.png\" width=600px>\n",
    "\n",
    "> **Exercise:** Create a network with 784 input units, a hidden layer with 128 units and a ReLU activation, then a hidden layer with 64 units and a ReLU activation, and finally an output layer with a softmax activation as shown above. You can use a ReLU activation with the `nn.ReLU` module or `F.relu` function."
   ]
  },
  {
   "cell_type": "code",
   "execution_count": 55,
   "metadata": {
    "scrolled": true
   },
   "outputs": [
    {
     "data": {
      "text/plain": [
       "Network(\n",
       "  (fc1): Linear(in_features=784, out_features=128, bias=True)\n",
       "  (fc2): Linear(in_features=128, out_features=64, bias=True)\n",
       "  (fc3): Linear(in_features=64, out_features=10, bias=True)\n",
       ")"
      ]
     },
     "execution_count": 55,
     "metadata": {},
     "output_type": "execute_result"
    }
   ],
   "source": [
    "## Your solution here\n",
    "\n",
    "class Network(nn.Module):\n",
    "    def __init__(self):\n",
    "        super().__init__()\n",
    "        # Inputs to hidden layer linear transformation\n",
    "        self.fc1 = nn.Linear(784, 128)\n",
    "        self.fc2 = nn.Linear(128, 64)\n",
    "        # Output layer, 10 units - one for each digit\n",
    "        self.fc3 = nn.Linear(64, 10)\n",
    "        \n",
    "    def forward(self, x):\n",
    "        # Hidden layer with sigmoid activation\n",
    "        x = F.relu(self.fc1(x))\n",
    "        x = F.relu(self.fc2(x))\n",
    "        # Output layer with softmax activation\n",
    "        x = F.softmax(self.fc3(x), dim=1)\n",
    "        \n",
    "        return x\n",
    "\n",
    "model = Network()\n",
    "model"
   ]
  },
  {
   "cell_type": "markdown",
   "metadata": {},
   "source": [
    "### Initializing weights and biases\n",
    "\n",
    "The weights and such are automatically initialized for you, but it's possible to customize how they are initialized. The weights and biases are tensors attached to the layer you defined, you can get them with `model.fc1.weight` for instance."
   ]
  },
  {
   "cell_type": "code",
   "execution_count": 57,
   "metadata": {},
   "outputs": [
    {
     "name": "stdout",
     "output_type": "stream",
     "text": [
      "<class 'torch.nn.parameter.Parameter'>\n",
      "Parameter containing:\n",
      "tensor([[-0.0357,  0.0023, -0.0331,  ...,  0.0278,  0.0328, -0.0201],\n",
      "        [ 0.0231,  0.0033, -0.0249,  ...,  0.0258,  0.0173, -0.0040],\n",
      "        [ 0.0017, -0.0085, -0.0272,  ..., -0.0024, -0.0154, -0.0193],\n",
      "        ...,\n",
      "        [ 0.0342,  0.0175, -0.0161,  ...,  0.0127,  0.0075,  0.0004],\n",
      "        [-0.0004, -0.0073,  0.0293,  ...,  0.0148,  0.0315, -0.0043],\n",
      "        [-0.0299,  0.0035,  0.0045,  ..., -0.0073, -0.0212,  0.0146]],\n",
      "       requires_grad=True)\n",
      "<class 'torch.nn.parameter.Parameter'>\n",
      "Parameter containing:\n",
      "tensor([-0.0267,  0.0324,  0.0240,  0.0246,  0.0117,  0.0229, -0.0239, -0.0216,\n",
      "        -0.0209,  0.0216,  0.0083, -0.0091, -0.0240,  0.0325, -0.0159,  0.0167,\n",
      "        -0.0336, -0.0240,  0.0243, -0.0355,  0.0044,  0.0259, -0.0307,  0.0188,\n",
      "        -0.0317,  0.0052,  0.0117,  0.0289, -0.0256, -0.0089, -0.0116, -0.0286,\n",
      "        -0.0313,  0.0156,  0.0196, -0.0150, -0.0009, -0.0186, -0.0222, -0.0274,\n",
      "         0.0188,  0.0264,  0.0303,  0.0145, -0.0020,  0.0317,  0.0056,  0.0073,\n",
      "        -0.0104,  0.0347, -0.0086, -0.0192,  0.0155,  0.0119,  0.0197,  0.0070,\n",
      "        -0.0347,  0.0294, -0.0102,  0.0094,  0.0247, -0.0165,  0.0060, -0.0085,\n",
      "        -0.0345,  0.0096,  0.0125, -0.0275,  0.0108,  0.0016, -0.0314, -0.0219,\n",
      "         0.0058,  0.0075, -0.0204, -0.0030, -0.0233, -0.0151, -0.0282, -0.0348,\n",
      "         0.0179, -0.0228,  0.0261, -0.0169, -0.0219, -0.0138, -0.0076, -0.0147,\n",
      "        -0.0251,  0.0129, -0.0254, -0.0066, -0.0211,  0.0181, -0.0298, -0.0273,\n",
      "        -0.0001, -0.0333, -0.0202,  0.0209,  0.0044, -0.0280,  0.0023,  0.0147,\n",
      "        -0.0065,  0.0108,  0.0086, -0.0057,  0.0240, -0.0055,  0.0196, -0.0087,\n",
      "         0.0217, -0.0346,  0.0013,  0.0004,  0.0344,  0.0066, -0.0323,  0.0322,\n",
      "        -0.0062,  0.0242,  0.0189, -0.0007,  0.0201,  0.0031, -0.0088,  0.0111],\n",
      "       requires_grad=True)\n"
     ]
    }
   ],
   "source": [
    "print(type(model.fc1.weight))\n",
    "print(model.fc1.weight)\n",
    "print(type(model.fc1.bias))\n",
    "print(model.fc1.bias)"
   ]
  },
  {
   "cell_type": "markdown",
   "metadata": {},
   "source": [
    "For custom initialization, we want to modify these tensors in place. These are actually autograd *Variables*, so we need to get back the actual tensors with `model.fc1.weight.data`. Once we have the tensors, we can fill them with zeros (for biases) or random normal values."
   ]
  },
  {
   "cell_type": "code",
   "execution_count": 59,
   "metadata": {},
   "outputs": [
    {
     "data": {
      "text/plain": [
       "torch.nn.parameter.Parameter"
      ]
     },
     "execution_count": 59,
     "metadata": {},
     "output_type": "execute_result"
    }
   ],
   "source": [
    "type(model.fc1.bias.data)\n",
    "type(model.fc1.bias)"
   ]
  },
  {
   "cell_type": "code",
   "execution_count": 14,
   "metadata": {},
   "outputs": [
    {
     "data": {
      "text/plain": [
       "tensor([0., 0., 0., 0., 0., 0., 0., 0., 0., 0., 0., 0., 0., 0., 0., 0., 0., 0.,\n",
       "        0., 0., 0., 0., 0., 0., 0., 0., 0., 0., 0., 0., 0., 0., 0., 0., 0., 0.,\n",
       "        0., 0., 0., 0., 0., 0., 0., 0., 0., 0., 0., 0., 0., 0., 0., 0., 0., 0.,\n",
       "        0., 0., 0., 0., 0., 0., 0., 0., 0., 0., 0., 0., 0., 0., 0., 0., 0., 0.,\n",
       "        0., 0., 0., 0., 0., 0., 0., 0., 0., 0., 0., 0., 0., 0., 0., 0., 0., 0.,\n",
       "        0., 0., 0., 0., 0., 0., 0., 0., 0., 0., 0., 0., 0., 0., 0., 0., 0., 0.,\n",
       "        0., 0., 0., 0., 0., 0., 0., 0., 0., 0., 0., 0., 0., 0., 0., 0., 0., 0.,\n",
       "        0., 0.])"
      ]
     },
     "execution_count": 14,
     "metadata": {},
     "output_type": "execute_result"
    }
   ],
   "source": [
    "# Set biases to all zeros\n",
    "model.fc1.bias.data.fill_(0)"
   ]
  },
  {
   "cell_type": "code",
   "execution_count": 15,
   "metadata": {},
   "outputs": [
    {
     "data": {
      "text/plain": [
       "tensor([[-0.0047,  0.0168, -0.0147,  ..., -0.0098, -0.0074,  0.0037],\n",
       "        [ 0.0033,  0.0016,  0.0037,  ..., -0.0011,  0.0174,  0.0122],\n",
       "        [ 0.0067, -0.0108,  0.0043,  ...,  0.0042, -0.0093,  0.0191],\n",
       "        ...,\n",
       "        [ 0.0178, -0.0085, -0.0152,  ...,  0.0049,  0.0118,  0.0024],\n",
       "        [ 0.0065,  0.0179,  0.0118,  ...,  0.0024, -0.0125, -0.0112],\n",
       "        [ 0.0027, -0.0155,  0.0012,  ..., -0.0030,  0.0048,  0.0019]])"
      ]
     },
     "execution_count": 15,
     "metadata": {},
     "output_type": "execute_result"
    }
   ],
   "source": [
    "# sample from random normal with standard dev = 0.01\n",
    "model.fc1.weight.data.normal_(std=0.01)"
   ]
  },
  {
   "cell_type": "markdown",
   "metadata": {},
   "source": [
    "### Forward pass\n",
    "\n",
    "Now that we have a network, let's see what happens when we pass in an image."
   ]
  },
  {
   "cell_type": "code",
   "execution_count": 60,
   "metadata": {},
   "outputs": [
    {
     "data": {
      "image/png": "[encoded data removed]",
      "text/plain": [
       "<Figure size 432x648 with 2 Axes>"
      ]
     },
     "metadata": {
      "image/png": {
       "height": 226,
       "width": 423
      },
      "needs_background": "light"
     },
     "output_type": "display_data"
    }
   ],
   "source": [
    "# Grab some data \n",
    "dataiter = iter(trainloader)\n",
    "images, labels = dataiter.next()\n",
    "\n",
    "# Resize images into a 1D vector, new shape is (batch size, color channels, image pixels) \n",
    "images.resize_(64, 1, 784)\n",
    "# or images.resize_(images.shape[0], 1, 784) to automatically get batch size\n",
    "\n",
    "# Forward pass through the network\n",
    "img_idx = 0\n",
    "ps = model.forward(images[img_idx,:])\n",
    "\n",
    "img = images[img_idx]\n",
    "helper.view_classify(img.view(1, 28, 28), ps)"
   ]
  },
  {
   "cell_type": "markdown",
   "metadata": {},
   "source": [
    "As you can see above, our network has basically no idea what this digit is. It's because we haven't trained it yet, all the weights are random!\n",
    "\n",
    "### Using `nn.Sequential`\n",
    "\n",
    "PyTorch provides a convenient way to build networks like this where a tensor is passed sequentially through operations, `nn.Sequential` ([documentation](https://pytorch.org/docs/master/nn.html#torch.nn.Sequential)). Using this to build the equivalent network:"
   ]
  },
  {
   "cell_type": "code",
   "execution_count": 17,
   "metadata": {},
   "outputs": [
    {
     "name": "stdout",
     "output_type": "stream",
     "text": [
      "Sequential(\n",
      "  (0): Linear(in_features=784, out_features=128, bias=True)\n",
      "  (1): ReLU()\n",
      "  (2): Linear(in_features=128, out_features=64, bias=True)\n",
      "  (3): ReLU()\n",
      "  (4): Linear(in_features=64, out_features=10, bias=True)\n",
      "  (5): Softmax()\n",
      ")\n"
     ]
    },
    {
     "data": {
      "image/png": "[encoded data removed]",
      "text/plain": [
       "<Figure size 432x648 with 2 Axes>"
      ]
     },
     "metadata": {
      "image/png": {
       "height": 226,
       "width": 423
      },
      "needs_background": "light"
     },
     "output_type": "display_data"
    }
   ],
   "source": [
    "# Hyperparameters for our network\n",
    "input_size = 784\n",
    "hidden_sizes = [128, 64]\n",
    "output_size = 10\n",
    "\n",
    "# Build a feed-forward network\n",
    "model = nn.Sequential(nn.Linear(input_size, hidden_sizes[0]),\n",
    "                      nn.ReLU(),\n",
    "                      nn.Linear(hidden_sizes[0], hidden_sizes[1]),\n",
    "                      nn.ReLU(),\n",
    "                      nn.Linear(hidden_sizes[1], output_size),\n",
    "                      nn.Softmax(dim=1))\n",
    "print(model)\n",
    "\n",
    "# Forward pass through the network and display output\n",
    "images, labels = next(iter(trainloader))\n",
    "images.resize_(images.shape[0], 1, 784)\n",
    "ps = model.forward(images[0,:])\n",
    "helper.view_classify(images[0].view(1, 28, 28), ps)"
   ]
  },
  {
   "cell_type": "markdown",
   "metadata": {},
   "source": [
    "The operations are availble by passing in the appropriate index. For example, if you want to get first Linear operation and look at the weights, you'd use `model[0]`."
   ]
  },
  {
   "cell_type": "code",
   "execution_count": 18,
   "metadata": {},
   "outputs": [
    {
     "name": "stdout",
     "output_type": "stream",
     "text": [
      "Linear(in_features=784, out_features=128, bias=True)\n"
     ]
    },
    {
     "data": {
      "text/plain": [
       "Parameter containing:\n",
       "tensor([[-0.0244, -0.0194,  0.0145,  ...,  0.0210, -0.0050, -0.0120],\n",
       "        [ 0.0156, -0.0217,  0.0208,  ..., -0.0190,  0.0171, -0.0034],\n",
       "        [ 0.0128,  0.0119,  0.0191,  ...,  0.0210, -0.0002,  0.0208],\n",
       "        ...,\n",
       "        [ 0.0193,  0.0252,  0.0200,  ...,  0.0237,  0.0064, -0.0119],\n",
       "        [ 0.0335, -0.0262,  0.0054,  ..., -0.0314, -0.0237,  0.0204],\n",
       "        [ 0.0118,  0.0295,  0.0211,  ..., -0.0270,  0.0062,  0.0113]],\n",
       "       requires_grad=True)"
      ]
     },
     "execution_count": 18,
     "metadata": {},
     "output_type": "execute_result"
    }
   ],
   "source": [
    "print(model[0])\n",
    "model[0].weight"
   ]
  },
  {
   "cell_type": "markdown",
   "metadata": {},
   "source": [
    "You can also pass in an `OrderedDict` to name the individual layers and operations, instead of using incremental integers. Note that dictionary keys must be unique, so _each operation must have a different name_."
   ]
  },
  {
   "cell_type": "code",
   "execution_count": 19,
   "metadata": {},
   "outputs": [
    {
     "data": {
      "text/plain": [
       "Sequential(\n",
       "  (fc1): Linear(in_features=784, out_features=128, bias=True)\n",
       "  (relu1): ReLU()\n",
       "  (fc2): Linear(in_features=128, out_features=64, bias=True)\n",
       "  (relu2): ReLU()\n",
       "  (output): Linear(in_features=64, out_features=10, bias=True)\n",
       "  (softmax): Softmax()\n",
       ")"
      ]
     },
     "execution_count": 19,
     "metadata": {},
     "output_type": "execute_result"
    }
   ],
   "source": [
    "from collections import OrderedDict\n",
    "model = nn.Sequential(OrderedDict([\n",
    "                      ('fc1', nn.Linear(input_size, hidden_sizes[0])),\n",
    "                      ('relu1', nn.ReLU()),\n",
    "                      ('fc2', nn.Linear(hidden_sizes[0], hidden_sizes[1])),\n",
    "                      ('relu2', nn.ReLU()),\n",
    "                      ('output', nn.Linear(hidden_sizes[1], output_size)),\n",
    "                      ('softmax', nn.Softmax(dim=1))]))\n",
    "model"
   ]
  },
  {
   "cell_type": "markdown",
   "metadata": {},
   "source": [
    "Now you can access layers either by integer or the name"
   ]
  },
  {
   "cell_type": "code",
   "execution_count": 20,
   "metadata": {},
   "outputs": [
    {
     "name": "stdout",
     "output_type": "stream",
     "text": [
      "Linear(in_features=784, out_features=128, bias=True)\n",
      "Linear(in_features=784, out_features=128, bias=True)\n"
     ]
    }
   ],
   "source": [
    "print(model[0])\n",
    "print(model.fc1)"
   ]
  },
  {
   "cell_type": "markdown",
   "metadata": {},
   "source": [
    "In the next notebook, we'll see how we can train a neural network to accuractly predict the numbers appearing in the MNIST images."
   ]
  }
 ],
 "metadata": {
  "kernelspec": {
   "display_name": "Python 3",
   "language": "python",
   "name": "python3"
  },
  "language_info": {
   "codemirror_mode": {
    "name": "ipython",
    "version": 3
   },
   "file_extension": ".py",
   "mimetype": "text/x-python",
   "name": "python",
   "nbconvert_exporter": "python",
   "pygments_lexer": "ipython3",
   "version": "3.7.0"
  }
 },
 "nbformat": 4,
 "nbformat_minor": 2
}
